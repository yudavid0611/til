{
 "cells": [
  {
   "cell_type": "markdown",
   "metadata": {},
   "source": [
    "# 2. How to invoke pytest\n",
    "> https://docs.pytest.org/en/8.0.x/how-to/usage.html"
   ]
  },
  {
   "cell_type": "markdown",
   "metadata": {},
   "source": [
    "## 터미널\n",
    "- 가장 일반적인 방법은 `pytest` 커맨드를 사용하는 것이다. 이 커맨드는 이름이 `test_*.py` or `\\*_test.py` 형태인 모든 파일의 모든 테스트를 실행한다.\n",
    "    - 현재 디렉토리와 이 디렉토리의 서브 디렉토리들에 적용된다.\n",
    "- 테스트를 수행할 대상을 특정하는 법\n",
    "    - 특정 모듈: `pytest test_mod.py`\n",
    "    - 특정 디렉토리: `pytest testing/`\n",
    "    - 특정 모듈 내 함수 또는 클래스: `pytest tests/test_mod.py::test_func` / `pytest tests/test_mod.py::TestClass` / `pytest tests/test_mod.py::TestClass::test_method`\n",
    "    - 특정 마커: `pytest -m slow`\n",
    "        - `@pytest.mark.slow` 데코레이터가 사용된 테스트가 실행\n",
    "    - 특정 키워드: `pytest -k \"MyClass and not method\"`\n",
    "        - TestMyClass.test_something는 실행되지만 TestMyClass.test_method_simple는 실행 안 됨\n",
    "- 테스트의 parametrization\n",
    "    - `pytest tests/test_mod.py::test_func[x1,y2]`\n",
    "- 시간이 오래 걸린 테스트 리스트 받기\n",
    "    - `pytest --durations=10 --durations-min=1.0` -> 실행시간이 1.0s를 초과하는 테스트 중 가장 느린 10개의 테스트 받기"
   ]
  },
  {
   "cell_type": "markdown",
   "metadata": {},
   "source": [
    "## 파이썬 코드\n",
    "- `retcode = pytest.main()`\n",
    "    - SystemExit을 raise하지 않고 exit code를 반환한다.\n",
    "- 파이썬의 import 시스템 캐싱 메커니즘 때문에 pytest.main()을 같은 프로세스에서 여러 번 호출하는 것은 권장되지 않는다."
   ]
  }
 ],
 "metadata": {
  "language_info": {
   "name": "python"
  }
 },
 "nbformat": 4,
 "nbformat_minor": 2
}

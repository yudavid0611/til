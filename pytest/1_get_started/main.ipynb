{
 "cells": [
  {
   "cell_type": "markdown",
   "metadata": {},
   "source": [
    "# 1. Get Started\n",
    "> https://docs.pytest.org/en/8.0.x/getting-started.html"
   ]
  },
  {
   "cell_type": "markdown",
   "metadata": {},
   "source": [
    "## 학습\n",
    "- `test_`로 시작하는 함수에 대해 자동으로 테스트를 진행한다.\n",
    "- 특정 클래스 안에서 여러 테스트를 진행하고 싶을 때, 클래스명은 `Test`로 시작되어야 한다.\n",
    "    - 단, 각 테스트는 클래스의 unique instance를 가지고 수행된다.\n",
    "    - ex. test_1에서 생성한 인스턴스 변수를 test_2에서 사용하지 못한다.\n",
    "- pytest는 임의의 리소스를 요청하기 위한 [Builtin fixtures/function arguments](https://docs.pytest.org/en/8.0.x/builtin.html)를 제공한다.\n",
    "    - ex. unique한  임시 디렉토리"
   ]
  },
  {
   "cell_type": "markdown",
   "metadata": {},
   "source": [
    "## Create your first test"
   ]
  },
  {
   "cell_type": "code",
   "execution_count": 5,
   "metadata": {},
   "outputs": [
    {
     "name": "stdout",
     "output_type": "stream",
     "text": [
      "\u001b[31mF\u001b[0m\u001b[31m                                                                        [100%]\u001b[0m\n",
      "================================== FAILURES ===================================\n",
      "\u001b[31m\u001b[1m_________________________________ test_answer _________________________________\u001b[0m\n",
      "\n",
      "    \u001b[0m\u001b[94mdef\u001b[39;49;00m \u001b[92mtest_answer\u001b[39;49;00m():\u001b[90m\u001b[39;49;00m\n",
      ">       \u001b[94massert\u001b[39;49;00m func(\u001b[94m3\u001b[39;49;00m) == \u001b[94m5\u001b[39;49;00m\u001b[90m\u001b[39;49;00m\n",
      "\u001b[1m\u001b[31mE       assert 4 == 5\u001b[0m\n",
      "\u001b[1m\u001b[31mE        +  where 4 = func(3)\u001b[0m\n",
      "\n",
      "\u001b[1m\u001b[31mtest_sample.py\u001b[0m:6: AssertionError\n",
      "\u001b[36m\u001b[1m=========================== short test summary info ===========================\u001b[0m\n",
      "\u001b[31mFAILED\u001b[0m test_sample.py::\u001b[1mtest_answer\u001b[0m - assert 4 == 5\n",
      "\u001b[31m\u001b[31m\u001b[1m1 failed\u001b[0m\u001b[31m in 0.12s\u001b[0m\u001b[0m\n"
     ]
    }
   ],
   "source": [
    "# test_sample.py\n",
    "!pytest -q ./test_sample.py"
   ]
  },
  {
   "cell_type": "markdown",
   "metadata": {},
   "source": [
    "## Group multiple tests in a class"
   ]
  },
  {
   "cell_type": "code",
   "execution_count": 7,
   "metadata": {},
   "outputs": [
    {
     "name": "stdout",
     "output_type": "stream",
     "text": [
      "\u001b[32m.\u001b[0m\u001b[31mF\u001b[0m\u001b[31m                                                                       [100%]\u001b[0m\n",
      "================================== FAILURES ===================================\n",
      "\u001b[31m\u001b[1m_____________________________ TestClass.test_two ______________________________\u001b[0m\n",
      "\n",
      "self = <test_class.TestClass object at 0x000002333EBA5B80>\n",
      "\n",
      "    \u001b[0m\u001b[94mdef\u001b[39;49;00m \u001b[92mtest_two\u001b[39;49;00m(\u001b[96mself\u001b[39;49;00m):\u001b[90m\u001b[39;49;00m\n",
      "        x = \u001b[33m\"\u001b[39;49;00m\u001b[33mhello\u001b[39;49;00m\u001b[33m\"\u001b[39;49;00m\u001b[90m\u001b[39;49;00m\n",
      ">       \u001b[94massert\u001b[39;49;00m \u001b[96mhasattr\u001b[39;49;00m(x, \u001b[33m\"\u001b[39;49;00m\u001b[33mcheck\u001b[39;49;00m\u001b[33m\"\u001b[39;49;00m)\u001b[90m\u001b[39;49;00m\n",
      "\u001b[1m\u001b[31mE       AssertionError: assert False\u001b[0m\n",
      "\u001b[1m\u001b[31mE        +  where False = hasattr('hello', 'check')\u001b[0m\n",
      "\n",
      "\u001b[1m\u001b[31mtest_class.py\u001b[0m:9: AssertionError\n",
      "\u001b[36m\u001b[1m=========================== short test summary info ===========================\u001b[0m\n",
      "\u001b[31mFAILED\u001b[0m test_class.py::\u001b[1mTestClass::test_two\u001b[0m - AssertionError: assert False\n",
      "\u001b[31m\u001b[31m\u001b[1m1 failed\u001b[0m, \u001b[32m1 passed\u001b[0m\u001b[31m in 0.12s\u001b[0m\u001b[0m\n"
     ]
    }
   ],
   "source": [
    "# test_class.py\n",
    "!pytest -q ./test_class.py"
   ]
  },
  {
   "cell_type": "code",
   "execution_count": 9,
   "metadata": {},
   "outputs": [
    {
     "name": "stdout",
     "output_type": "stream",
     "text": [
      "\u001b[32m.\u001b[0m\u001b[31mF\u001b[0m\u001b[31m                                                                       [100%]\u001b[0m\n",
      "================================== FAILURES ===================================\n",
      "\u001b[31m\u001b[1m_______________________ TestClassDemoInstance.test_two ________________________\u001b[0m\n",
      "\n",
      "self = <test_class_demo.TestClassDemoInstance object at 0x000001614F236BB0>\n",
      "\n",
      "    \u001b[0m\u001b[94mdef\u001b[39;49;00m \u001b[92mtest_two\u001b[39;49;00m(\u001b[96mself\u001b[39;49;00m):\u001b[90m\u001b[39;49;00m\n",
      ">       \u001b[94massert\u001b[39;49;00m \u001b[96mself\u001b[39;49;00m.value == \u001b[94m1\u001b[39;49;00m\u001b[90m\u001b[39;49;00m\n",
      "\u001b[1m\u001b[31mE       assert 0 == 1\u001b[0m\n",
      "\u001b[1m\u001b[31mE        +  where 0 = <test_class_demo.TestClassDemoInstance object at 0x000001614F236BB0>.value\u001b[0m\n",
      "\n",
      "\u001b[1m\u001b[31mtest_class_demo.py\u001b[0m:10: AssertionError\n",
      "\u001b[36m\u001b[1m=========================== short test summary info ===========================\u001b[0m\n",
      "\u001b[31mFAILED\u001b[0m test_class_demo.py::\u001b[1mTestClassDemoInstance::test_two\u001b[0m - assert 0 == 1\n",
      "\u001b[31m\u001b[31m\u001b[1m1 failed\u001b[0m, \u001b[32m1 passed\u001b[0m\u001b[31m in 0.13s\u001b[0m\u001b[0m\n"
     ]
    }
   ],
   "source": [
    "# test_class_demo.py\n",
    "!pytest -q ./test_class_demo.py"
   ]
  },
  {
   "cell_type": "markdown",
   "metadata": {},
   "source": [
    "## Request a unique temporary directory for functional tests"
   ]
  },
  {
   "cell_type": "markdown",
   "metadata": {},
   "source": [
    "인자로 입력된 `tmp_path`를 통해 테스트 함수가 실행되기 전 unique-per-test-invocation temporary directory가 생성되었다.\n",
    "\n",
    "<br>\n",
    "\n",
    "임시 디렉토리 핸들링에 관한 상세 정보\n",
    "    - [Temporary directories and files](https://docs.pytest.org/en/8.0.x/how-to/tmp_path.html#tmp-path-handling)"
   ]
  },
  {
   "cell_type": "code",
   "execution_count": 10,
   "metadata": {},
   "outputs": [
    {
     "name": "stdout",
     "output_type": "stream",
     "text": [
      "\u001b[31mF\u001b[0m\u001b[31m                                                                        [100%]\u001b[0m\n",
      "================================== FAILURES ===================================\n",
      "\u001b[31m\u001b[1m_______________________________ test_needsfiles _______________________________\u001b[0m\n",
      "\n",
      "tmp_path = WindowsPath('C:/Users/42Maru/AppData/Local/Temp/pytest-of-42Maru/pytest-0/test_needsfiles0')\n",
      "\n",
      "    \u001b[0m\u001b[94mdef\u001b[39;49;00m \u001b[92mtest_needsfiles\u001b[39;49;00m(tmp_path):\u001b[90m\u001b[39;49;00m\n",
      "        \u001b[96mprint\u001b[39;49;00m(tmp_path)\u001b[90m\u001b[39;49;00m\n",
      ">       \u001b[94massert\u001b[39;49;00m \u001b[94m0\u001b[39;49;00m\u001b[90m\u001b[39;49;00m\n",
      "\u001b[1m\u001b[31mE       assert 0\u001b[0m\n",
      "\n",
      "\u001b[1m\u001b[31mtest_tmp_path.py\u001b[0m:3: AssertionError\n",
      "---------------------------- Captured stdout call -----------------------------\n",
      "C:\\Users\\42Maru\\AppData\\Local\\Temp\\pytest-of-42Maru\\pytest-0\\test_needsfiles0\n",
      "\u001b[36m\u001b[1m=========================== short test summary info ===========================\u001b[0m\n",
      "\u001b[31mFAILED\u001b[0m test_tmp_path.py::\u001b[1mtest_needsfiles\u001b[0m - assert 0\n",
      "\u001b[31m\u001b[31m\u001b[1m1 failed\u001b[0m\u001b[31m in 0.15s\u001b[0m\u001b[0m\n"
     ]
    }
   ],
   "source": [
    "# test_tmp_path.py\n",
    "!pytest -q ./test_tmp_path.py"
   ]
  }
 ],
 "metadata": {
  "kernelspec": {
   "display_name": "venv",
   "language": "python",
   "name": "python3"
  },
  "language_info": {
   "codemirror_mode": {
    "name": "ipython",
    "version": 3
   },
   "file_extension": ".py",
   "mimetype": "text/x-python",
   "name": "python",
   "nbconvert_exporter": "python",
   "pygments_lexer": "ipython3",
   "version": "3.9.13"
  }
 },
 "nbformat": 4,
 "nbformat_minor": 2
}

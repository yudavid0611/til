{
 "cells": [
  {
   "cell_type": "markdown",
   "metadata": {},
   "source": [
    "# 3. How to write and report assertions in tests\n",
    "> https://docs.pytest.org/en/8.0.x/how-to/assert.html"
   ]
  },
  {
   "cell_type": "markdown",
   "metadata": {},
   "source": [
    "## 학습\n",
    "- 예상되는 예외를 강제할 수 있다.\n",
    "- 예외뿐만 아니라 예외 메시지(exception message) 또한 강제할 수 있다."
   ]
  },
  {
   "cell_type": "markdown",
   "metadata": {},
   "source": [
    "## 테스트"
   ]
  },
  {
   "cell_type": "markdown",
   "metadata": {},
   "source": [
    "아래 테스트에서, 예상했던 예외가 발생하여 테스트가 통과된다."
   ]
  },
  {
   "cell_type": "code",
   "execution_count": 1,
   "metadata": {},
   "outputs": [
    {
     "name": "stdout",
     "output_type": "stream",
     "text": [
      "\u001b[1m============================= test session starts =============================\u001b[0m\n",
      "platform win32 -- Python 3.9.13, pytest-8.1.1, pluggy-1.4.0\n",
      "rootdir: c:\\Users\\42Maru\\til\\til\\pytest\\3_how_to_write_and_report_assertions_in_tests\n",
      "collected 1 item\n",
      "\n",
      "recursion_test.py \u001b[32m.\u001b[0m\u001b[32m                                                      [100%]\u001b[0m\n",
      "\n",
      "\u001b[32m============================== \u001b[32m\u001b[1m1 passed\u001b[0m\u001b[32m in 0.02s\u001b[0m\u001b[32m ==============================\u001b[0m\n"
     ]
    }
   ],
   "source": [
    "# recursion_test.py\n",
    "!pytest recursion_test.py"
   ]
  },
  {
   "cell_type": "code",
   "execution_count": 7,
   "metadata": {},
   "outputs": [
    {
     "name": "stdout",
     "output_type": "stream",
     "text": [
      "\u001b[1m============================= test session starts =============================\u001b[0m\n",
      "platform win32 -- Python 3.9.13, pytest-8.1.1, pluggy-1.4.0\n",
      "rootdir: c:\\Users\\42Maru\\til\\til\\pytest\\3_how_to_write_and_report_assertions_in_tests\n",
      "collected 4 items\n",
      "\n",
      "all_cases_test.py \u001b[31mF\u001b[0m\u001b[31mF\u001b[0m\u001b[32m.\u001b[0m\u001b[31mF\u001b[0m\u001b[31m                                                   [100%]\u001b[0m\n",
      "\n",
      "================================== FAILURES ===================================\n",
      "\u001b[31m\u001b[1m_________________________________ Test.test_1 _________________________________\u001b[0m\n",
      "\n",
      "self = <all_cases_test.Test object at 0x000001FA09212AC0>\n",
      "\n",
      "    \u001b[0m\u001b[94mdef\u001b[39;49;00m \u001b[92mtest_1\u001b[39;49;00m(\u001b[96mself\u001b[39;49;00m):\u001b[90m\u001b[39;49;00m\n",
      "    \u001b[90m    \u001b[39;49;00m\u001b[33m'''\u001b[39;49;00m\n",
      "    \u001b[33m    에러를 발생시키고 별다른 조치 안 함\u001b[39;49;00m\n",
      "    \u001b[33m    '''\u001b[39;49;00m\u001b[90m\u001b[39;49;00m\n",
      "        \u001b[94mdef\u001b[39;49;00m \u001b[92mfoo\u001b[39;49;00m():\u001b[90m\u001b[39;49;00m\n",
      "            \u001b[94mraise\u001b[39;49;00m \u001b[96mNotImplementedError\u001b[39;49;00m\u001b[90m\u001b[39;49;00m\n",
      "    \u001b[90m\u001b[39;49;00m\n",
      ">       foo()\u001b[90m\u001b[39;49;00m\n",
      "\n",
      "\u001b[1m\u001b[31mall_cases_test.py\u001b[0m:12: \n",
      "_ _ _ _ _ _ _ _ _ _ _ _ _ _ _ _ _ _ _ _ _ _ _ _ _ _ _ _ _ _ _ _ _ _ _ _ _ _ _ _\n",
      "\n",
      "    \u001b[0m\u001b[94mdef\u001b[39;49;00m \u001b[92mfoo\u001b[39;49;00m():\u001b[90m\u001b[39;49;00m\n",
      ">       \u001b[94mraise\u001b[39;49;00m \u001b[96mNotImplementedError\u001b[39;49;00m\u001b[90m\u001b[39;49;00m\n",
      "\u001b[1m\u001b[31mE       NotImplementedError\u001b[0m\n",
      "\n",
      "\u001b[1m\u001b[31mall_cases_test.py\u001b[0m:10: NotImplementedError\n",
      "\u001b[31m\u001b[1m_________________________________ Test.test_2 _________________________________\u001b[0m\n",
      "\n",
      "self = <all_cases_test.Test object at 0x000001FA092127F0>\n",
      "\n",
      "    \u001b[0m\u001b[94mdef\u001b[39;49;00m \u001b[92mtest_2\u001b[39;49;00m(\u001b[96mself\u001b[39;49;00m):\u001b[90m\u001b[39;49;00m\n",
      "    \u001b[90m    \u001b[39;49;00m\u001b[33m'''\u001b[39;49;00m\n",
      "    \u001b[33m    에러를 발생시키고 잘못된 에러를 예상함\u001b[39;49;00m\n",
      "    \u001b[33m    '''\u001b[39;49;00m\u001b[90m\u001b[39;49;00m\n",
      "        \u001b[94mdef\u001b[39;49;00m \u001b[92mfoo\u001b[39;49;00m():\u001b[90m\u001b[39;49;00m\n",
      "            \u001b[94mraise\u001b[39;49;00m \u001b[96mNotImplementedError\u001b[39;49;00m\u001b[90m\u001b[39;49;00m\n",
      "    \u001b[90m\u001b[39;49;00m\n",
      "        \u001b[94mwith\u001b[39;49;00m pytest.raises(\u001b[96mZeroDivisionError\u001b[39;49;00m):\u001b[90m\u001b[39;49;00m\n",
      ">           foo()\u001b[90m\u001b[39;49;00m\n",
      "\n",
      "\u001b[1m\u001b[31mall_cases_test.py\u001b[0m:22: \n",
      "_ _ _ _ _ _ _ _ _ _ _ _ _ _ _ _ _ _ _ _ _ _ _ _ _ _ _ _ _ _ _ _ _ _ _ _ _ _ _ _\n",
      "\n",
      "    \u001b[0m\u001b[94mdef\u001b[39;49;00m \u001b[92mfoo\u001b[39;49;00m():\u001b[90m\u001b[39;49;00m\n",
      ">       \u001b[94mraise\u001b[39;49;00m \u001b[96mNotImplementedError\u001b[39;49;00m\u001b[90m\u001b[39;49;00m\n",
      "\u001b[1m\u001b[31mE       NotImplementedError\u001b[0m\n",
      "\n",
      "\u001b[1m\u001b[31mall_cases_test.py\u001b[0m:19: NotImplementedError\n",
      "\u001b[31m\u001b[1m_________________________________ Test.test_4 _________________________________\u001b[0m\n",
      "\n",
      "self = <all_cases_test.Test object at 0x000001FA09212670>\n",
      "\n",
      "    \u001b[0m\u001b[94mdef\u001b[39;49;00m \u001b[92mtest_4\u001b[39;49;00m(\u001b[96mself\u001b[39;49;00m):\u001b[90m\u001b[39;49;00m\n",
      "    \u001b[90m    \u001b[39;49;00m\u001b[33m'''\u001b[39;49;00m\n",
      "    \u001b[33m    에러를 발생시키고 타입을 명확히 확인함\u001b[39;49;00m\n",
      "    \u001b[33m    '''\u001b[39;49;00m\u001b[90m\u001b[39;49;00m\n",
      "        \u001b[94mdef\u001b[39;49;00m \u001b[92mfoo\u001b[39;49;00m():\u001b[90m\u001b[39;49;00m\n",
      "            \u001b[94mraise\u001b[39;49;00m \u001b[96mNotImplementedError\u001b[39;49;00m\u001b[90m\u001b[39;49;00m\n",
      "    \u001b[90m\u001b[39;49;00m\n",
      "        \u001b[94mwith\u001b[39;49;00m pytest.raises(\u001b[96mRuntimeError\u001b[39;49;00m) \u001b[94mas\u001b[39;49;00m excinfo:\u001b[90m\u001b[39;49;00m\n",
      "            foo()\u001b[90m\u001b[39;49;00m\n",
      "    \u001b[90m\u001b[39;49;00m\n",
      ">       \u001b[94massert\u001b[39;49;00m excinfo.type \u001b[95mis\u001b[39;49;00m \u001b[96mRuntimeError\u001b[39;49;00m\u001b[90m\u001b[39;49;00m\n",
      "\u001b[1m\u001b[31mE       AssertionError: assert <class 'NotImplementedError'> is RuntimeError\u001b[0m\n",
      "\u001b[1m\u001b[31mE        +  where <class 'NotImplementedError'> = <ExceptionInfo NotImplementedError() tblen=2>.type\u001b[0m\n",
      "\n",
      "\u001b[1m\u001b[31mall_cases_test.py\u001b[0m:44: AssertionError\n",
      "\u001b[36m\u001b[1m=========================== short test summary info ===========================\u001b[0m\n",
      "\u001b[31mFAILED\u001b[0m all_cases_test.py::\u001b[1mTest::test_1\u001b[0m - NotImplementedError\n",
      "\u001b[31mFAILED\u001b[0m all_cases_test.py::\u001b[1mTest::test_2\u001b[0m - NotImplementedError\n",
      "\u001b[31mFAILED\u001b[0m all_cases_test.py::\u001b[1mTest::test_4\u001b[0m - AssertionError: assert <class 'NotImplementedError'> is RuntimeError\n",
      "\u001b[31m========================= \u001b[31m\u001b[1m3 failed\u001b[0m, \u001b[32m1 passed\u001b[0m\u001b[31m in 0.20s\u001b[0m\u001b[31m =========================\u001b[0m\n"
     ]
    }
   ],
   "source": [
    "# all_cases_test.py\n",
    "!pytest all_cases_test.py"
   ]
  },
  {
   "cell_type": "code",
   "execution_count": 8,
   "metadata": {},
   "outputs": [
    {
     "name": "stdout",
     "output_type": "stream",
     "text": [
      "\u001b[1m============================= test session starts =============================\u001b[0m\n",
      "platform win32 -- Python 3.9.13, pytest-8.1.1, pluggy-1.4.0\n",
      "rootdir: c:\\Users\\42Maru\\til\\til\\pytest\\3_how_to_write_and_report_assertions_in_tests\n",
      "collected 1 item\n",
      "\n",
      "message_match_test.py \u001b[32m.\u001b[0m\u001b[32m                                                  [100%]\u001b[0m\n",
      "\n",
      "\u001b[32m============================== \u001b[32m\u001b[1m1 passed\u001b[0m\u001b[32m in 0.01s\u001b[0m\u001b[32m ==============================\u001b[0m\n"
     ]
    }
   ],
   "source": [
    "# message_match_test.py\n",
    "!pytest message_match_test.py"
   ]
  }
 ],
 "metadata": {
  "kernelspec": {
   "display_name": "venv",
   "language": "python",
   "name": "python3"
  },
  "language_info": {
   "codemirror_mode": {
    "name": "ipython",
    "version": 3
   },
   "file_extension": ".py",
   "mimetype": "text/x-python",
   "name": "python",
   "nbconvert_exporter": "python",
   "pygments_lexer": "ipython3",
   "version": "3.9.13"
  }
 },
 "nbformat": 4,
 "nbformat_minor": 2
}

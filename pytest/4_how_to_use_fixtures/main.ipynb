{
 "cells": [
  {
   "cell_type": "markdown",
   "metadata": {},
   "source": [
    "# 4. How to use fixtures\n",
    "> https://docs.pytest.org/en/8.0.x/how-to/fixtures.html"
   ]
  },
  {
   "cell_type": "markdown",
   "metadata": {},
   "source": [
    "## 학습\n",
    "- Fixtures란?\n",
    "    - \"provides a defined, reliable and consistent context for the tests\"\n",
    "- fixtures를 여러 개 넣어서 테스트 할 수도 있다.\n",
    "- 하나의 테스트에서 여러 번 fixture를 호출할 경우, fixture는 재실행 되지 않고 기존 값이 사용된다.\n",
    "- autouse fixtures\n",
    "    - 직접 요청하지 않아도, 테스트에서 자동으로 요청되는 fixtures\n",
    "- scope\n",
    "    - 특정 범위 내에서 공용으로 사용할 fixture를 정의할 수 있다.\n",
    "    - 유용성: 시간이 오래 소요되는 서버 연결 등을 최초 한 번만 수행하고 여러 테스트를 해당 연결을 사용해서 처리\n",
    "- fixture finalization\n",
    "    - pytest의 fixtures는 유용한 teardown 시스템을 가지고 있다. 즉 각 fixture가 사용된 후 clean up 하는 데 필요한 단계를 정의할 수 있다.\n",
    "    - `yield` fixtures\n",
    "        - return 대신 사용되며, yield 뒤에 `teardown code`가 작성된다.\n",
    "        - 테스트가 끝나면 pytest는 fixture 리스트의 반대 순서로 순회하며 yielded된 fixture의 teardown code를 실행한다.\n",
    "        - yield 전에 예외가 발생할 경우 teardown code는 실행되지 않는다."
   ]
  },
  {
   "cell_type": "markdown",
   "metadata": {},
   "source": [
    "## 테스트"
   ]
  },
  {
   "cell_type": "markdown",
   "metadata": {},
   "source": [
    "### fixture 기본 활용\n",
    "test_string()의 파라미터인 `order`와 같은 이름의 fixture를 찾아 test_string()에 넣어준다. 그리고 order의 경우에도 `first_entry`와 같은 이름의 fixture를 찾아 order()에 넣어준다."
   ]
  },
  {
   "cell_type": "code",
   "execution_count": 8,
   "metadata": {},
   "outputs": [
    {
     "name": "stdout",
     "output_type": "stream",
     "text": [
      "\u001b[1m============================= test session starts =============================\u001b[0m\n",
      "platform win32 -- Python 3.9.13, pytest-8.1.1, pluggy-1.4.0\n",
      "rootdir: c:\\Users\\42Maru\\til\\til\\pytest\\4_how_to_use_fixtures\n",
      "collected 1 item\n",
      "\n",
      "test_append.py \u001b[32m.\u001b[0m\n",
      "\n",
      "\u001b[32m============================== \u001b[32m\u001b[1m1 passed\u001b[0m\u001b[32m in 0.02s\u001b[0m\u001b[32m ==============================\u001b[0m\n"
     ]
    }
   ],
   "source": [
    "# test_append\n",
    "!pytest test_append.py"
   ]
  },
  {
   "cell_type": "markdown",
   "metadata": {},
   "source": [
    "### 여러 fixtures 사용\n",
    "여러 fixtures를 테스트 함수에 넣을 수도 있다."
   ]
  },
  {
   "cell_type": "code",
   "execution_count": 2,
   "metadata": {},
   "outputs": [
    {
     "name": "stdout",
     "output_type": "stream",
     "text": [
      "\u001b[1m============================= test session starts =============================\u001b[0m\n",
      "platform win32 -- Python 3.9.13, pytest-8.1.1, pluggy-1.4.0\n",
      "rootdir: c:\\Users\\42Maru\\til\\til\\pytest\\4_how_to_use_fixtures\n",
      "collected 1 item\n",
      "\n",
      "test_append_multiple.py \u001b[32m.\u001b[0m\u001b[32m                                                [100%]\u001b[0m\n",
      "\n",
      "\u001b[32m============================== \u001b[32m\u001b[1m1 passed\u001b[0m\u001b[32m in 0.01s\u001b[0m\u001b[32m ==============================\u001b[0m\n"
     ]
    }
   ],
   "source": [
    "!pytest test_append_multiple.py"
   ]
  },
  {
   "cell_type": "markdown",
   "metadata": {},
   "source": [
    "### fixtures 여러 번 호출\n",
    "append_first()의 결과로 order에 'a'가 추가된다. 그리고 order를 재호출했을 때 그 값이 그대로 사용된다."
   ]
  },
  {
   "cell_type": "code",
   "execution_count": 5,
   "metadata": {},
   "outputs": [
    {
     "name": "stdout",
     "output_type": "stream",
     "text": [
      "\u001b[1m============================= test session starts =============================\u001b[0m\n",
      "platform win32 -- Python 3.9.13, pytest-8.1.1, pluggy-1.4.0\n",
      "rootdir: c:\\Users\\42Maru\\til\\til\\pytest\\4_how_to_use_fixtures\n",
      "collected 1 item\n",
      "\n",
      "test_append_more_than_once.py \u001b[32m.\u001b[0m\u001b[32m                                          [100%]\u001b[0m\n",
      "\n",
      "\u001b[32m============================== \u001b[32m\u001b[1m1 passed\u001b[0m\u001b[32m in 0.01s\u001b[0m\u001b[32m ==============================\u001b[0m\n"
     ]
    }
   ],
   "source": [
    "!pytest test_append_more_than_once.py"
   ]
  },
  {
   "cell_type": "markdown",
   "metadata": {},
   "source": [
    "### autouse fixtures\n",
    "테스트에서 항상 append_first()가 자동으로 실행된다."
   ]
  },
  {
   "cell_type": "code",
   "execution_count": 6,
   "metadata": {},
   "outputs": [
    {
     "name": "stdout",
     "output_type": "stream",
     "text": [
      "\u001b[1m============================= test session starts =============================\u001b[0m\n",
      "platform win32 -- Python 3.9.13, pytest-8.1.1, pluggy-1.4.0\n",
      "rootdir: c:\\Users\\42Maru\\til\\til\\pytest\\4_how_to_use_fixtures\n",
      "collected 2 items\n",
      "\n",
      "test_append_autouse.py \u001b[32m.\u001b[0m\u001b[32m.\u001b[0m\u001b[32m                                                [100%]\u001b[0m\n",
      "\n",
      "\u001b[32m============================== \u001b[32m\u001b[1m2 passed\u001b[0m\u001b[32m in 0.01s\u001b[0m\u001b[32m ==============================\u001b[0m\n"
     ]
    }
   ],
   "source": [
    "!pytest test_append_autouse.py"
   ]
  },
  {
   "cell_type": "markdown",
   "metadata": {},
   "source": [
    "### scope"
   ]
  },
  {
   "cell_type": "code",
   "execution_count": 9,
   "metadata": {},
   "outputs": [
    {
     "name": "stdout",
     "output_type": "stream",
     "text": [
      "\u001b[1m============================= test session starts =============================\u001b[0m\n",
      "platform win32 -- Python 3.9.13, pytest-8.1.1, pluggy-1.4.0\n",
      "rootdir: c:\\Users\\42Maru\\til\\til\\pytest\\4_how_to_use_fixtures\n",
      "collected 2 items\n",
      "\n",
      "test_scope.py \u001b[31mF\u001b[0m\u001b[31mF\u001b[0m\u001b[31m                                                         [100%]\u001b[0m\n",
      "\n",
      "================================== FAILURES ===================================\n",
      "\u001b[31m\u001b[1m__________________________________ test_ehlo __________________________________\u001b[0m\n",
      "\n",
      "smtp_connection = <smtplib.SMTP object at 0x000001FA9625B9A0>\n",
      "\n",
      "    \u001b[0m\u001b[94mdef\u001b[39;49;00m \u001b[92mtest_ehlo\u001b[39;49;00m(smtp_connection):\u001b[90m\u001b[39;49;00m\n",
      "        response, msg = smtp_connection.ehlo()\u001b[90m\u001b[39;49;00m\n",
      "        \u001b[94massert\u001b[39;49;00m response == \u001b[94m250\u001b[39;49;00m\u001b[90m\u001b[39;49;00m\n",
      "        \u001b[94massert\u001b[39;49;00m \u001b[33mb\u001b[39;49;00m\u001b[33m\"\u001b[39;49;00m\u001b[33msmtp.gmail.com\u001b[39;49;00m\u001b[33m\"\u001b[39;49;00m \u001b[95min\u001b[39;49;00m msg\u001b[90m\u001b[39;49;00m\n",
      ">       \u001b[94massert\u001b[39;49;00m \u001b[94m0\u001b[39;49;00m  \u001b[90m# for demo purposes\u001b[39;49;00m\u001b[90m\u001b[39;49;00m\n",
      "\u001b[1m\u001b[31mE       assert 0\u001b[0m\n",
      "\n",
      "\u001b[1m\u001b[31mtest_scope.py\u001b[0m:5: AssertionError\n",
      "\u001b[31m\u001b[1m__________________________________ test_noop __________________________________\u001b[0m\n",
      "\n",
      "smtp_connection = <smtplib.SMTP object at 0x000001FA9625B9A0>\n",
      "\n",
      "    \u001b[0m\u001b[94mdef\u001b[39;49;00m \u001b[92mtest_noop\u001b[39;49;00m(smtp_connection):\u001b[90m\u001b[39;49;00m\n",
      "        response, msg = smtp_connection.noop()\u001b[90m\u001b[39;49;00m\n",
      "        \u001b[94massert\u001b[39;49;00m response == \u001b[94m250\u001b[39;49;00m\u001b[90m\u001b[39;49;00m\n",
      ">       \u001b[94massert\u001b[39;49;00m \u001b[94m0\u001b[39;49;00m  \u001b[90m# for demo purposes\u001b[39;49;00m\u001b[90m\u001b[39;49;00m\n",
      "\u001b[1m\u001b[31mE       assert 0\u001b[0m\n",
      "\n",
      "\u001b[1m\u001b[31mtest_scope.py\u001b[0m:11: AssertionError\n",
      "\u001b[36m\u001b[1m=========================== short test summary info ===========================\u001b[0m\n",
      "\u001b[31mFAILED\u001b[0m test_scope.py::\u001b[1mtest_ehlo\u001b[0m - assert 0\n",
      "\u001b[31mFAILED\u001b[0m test_scope.py::\u001b[1mtest_noop\u001b[0m - assert 0\n",
      "\u001b[31m============================== \u001b[31m\u001b[1m2 failed\u001b[0m\u001b[31m in 1.77s\u001b[0m\u001b[31m ==============================\u001b[0m\n"
     ]
    }
   ],
   "source": [
    "!pytest test_scope.py"
   ]
  },
  {
   "cell_type": "markdown",
   "metadata": {},
   "source": [
    "아래 코드와 같이 scope를 dynamic하게 지정할 수 있다."
   ]
  },
  {
   "cell_type": "code",
   "execution_count": null,
   "metadata": {},
   "outputs": [],
   "source": [
    "def determine_scope(fixture_name, config):\n",
    "    if config.getoption(\"--keep-containers\", None):\n",
    "        return \"session\"\n",
    "    return \"function\"\n",
    "\n",
    "\n",
    "@pytest.fixture(scope=determine_scope)\n",
    "def docker_container():\n",
    "    yield spawn_container()"
   ]
  },
  {
   "cell_type": "markdown",
   "metadata": {},
   "source": [
    "### yield"
   ]
  },
  {
   "cell_type": "markdown",
   "metadata": {},
   "source": [
    "setup이 늦게된 receiving_user부터 teardown이 수행된다."
   ]
  },
  {
   "cell_type": "code",
   "execution_count": 9,
   "metadata": {},
   "outputs": [
    {
     "name": "stdout",
     "output_type": "stream",
     "text": [
      "\u001b[1m============================= test session starts =============================\u001b[0m\n",
      "platform win32 -- Python 3.9.13, pytest-8.1.1, pluggy-1.4.0\n",
      "rootdir: c:\\Users\\42Maru\\til\\til\\pytest\\4_how_to_use_fixtures\n",
      "collected 1 item\n",
      "\n",
      "test_emaillib.py \u001b[32m.\u001b[0mreceiving_user teardown!\n",
      "sending_user teardown!\n",
      "\n",
      "\n",
      "\u001b[32m============================== \u001b[32m\u001b[1m1 passed\u001b[0m\u001b[32m in 0.00s\u001b[0m\u001b[32m ==============================\u001b[0m\n"
     ]
    }
   ],
   "source": [
    "!pytest -s test_emaillib.py"
   ]
  }
 ],
 "metadata": {
  "kernelspec": {
   "display_name": "venv",
   "language": "python",
   "name": "python3"
  },
  "language_info": {
   "codemirror_mode": {
    "name": "ipython",
    "version": 3
   },
   "file_extension": ".py",
   "mimetype": "text/x-python",
   "name": "python",
   "nbconvert_exporter": "python",
   "pygments_lexer": "ipython3",
   "version": "3.9.13"
  }
 },
 "nbformat": 4,
 "nbformat_minor": 2
}

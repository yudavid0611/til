{
 "cells": [
  {
   "cell_type": "markdown",
   "metadata": {},
   "source": [
    "# Adapter Pattern\n",
    "> - 참고: [헤드 퍼스트 디자인 패턴](https://ebook-product.kyobobook.co.kr/dig/epd/ebook/E000002942608) Chapter7. 어댑터 패턴과 퍼사드 패턴"
   ]
  },
  {
   "cell_type": "code",
   "execution_count": 1,
   "metadata": {},
   "outputs": [],
   "source": [
    "from abc import abstractmethod, ABCMeta"
   ]
  },
  {
   "cell_type": "code",
   "execution_count": 2,
   "metadata": {},
   "outputs": [],
   "source": [
    "# 오리 추상 클래스\n",
    "class Duck(metaclass=ABCMeta):\n",
    "    @abstractmethod\n",
    "    def quack():\n",
    "        pass\n",
    "    \n",
    "    @abstractmethod\n",
    "    def fly():\n",
    "        pass\n",
    "\n",
    "\n",
    "# 칠면조 추상 클래스\n",
    "class Turkey(metaclass=ABCMeta):\n",
    "    @abstractmethod\n",
    "    def gobble():\n",
    "        pass\n",
    "    \n",
    "    @abstractmethod\n",
    "    def fly():\n",
    "        pass"
   ]
  },
  {
   "cell_type": "code",
   "execution_count": 3,
   "metadata": {},
   "outputs": [],
   "source": [
    "# 오리 구상 클래스\n",
    "class KoreanDuck(Duck):\n",
    "    def quack(self):\n",
    "        print('오리 꽥꽥~')\n",
    "    \n",
    "    def fly(self):\n",
    "        print('오리가 날아갑니다!')\n",
    "\n",
    "\n",
    "# 칠면조 구상 클래스\n",
    "class JapanTurkey(Turkey):\n",
    "    def gobble(self):\n",
    "        print('칠면조 구르륵~')\n",
    "    \n",
    "    def fly(self):\n",
    "        print('칠면조가 날아갑니다!')\n",
    "\n",
    "\n",
    "# 칠면조 어댑터\n",
    "class TurkeyAdapter(Duck):\n",
    "    def __init__(self, turkey: Turkey):\n",
    "        self.turkey = turkey\n",
    "\n",
    "    def quack(self):\n",
    "        self.turkey.gobble()\n",
    "    \n",
    "    def fly(self):\n",
    "        self.turkey.fly()"
   ]
  },
  {
   "cell_type": "code",
   "execution_count": 4,
   "metadata": {},
   "outputs": [
    {
     "name": "stdout",
     "output_type": "stream",
     "text": [
      "오리 꽥꽥~\n",
      "칠면조 구르륵~\n",
      "오리가 날아갑니다!\n",
      "칠면조가 날아갑니다!\n"
     ]
    }
   ],
   "source": [
    "korean_duck = KoreanDuck()\n",
    "japan_turkey = JapanTurkey()\n",
    "\n",
    "japan_turkey_adapter = TurkeyAdapter(japan_turkey)\n",
    "\n",
    "\n",
    "# 오리에 정의된 메서드로 칠면조의 행동도 제어가 가능해졌다.\n",
    "korean_duck.quack()\n",
    "japan_turkey_adapter.quack()\n",
    "\n",
    "korean_duck.fly()\n",
    "japan_turkey_adapter.fly()"
   ]
  }
 ],
 "metadata": {
  "kernelspec": {
   "display_name": "Python 3",
   "language": "python",
   "name": "python3"
  },
  "language_info": {
   "codemirror_mode": {
    "name": "ipython",
    "version": 3
   },
   "file_extension": ".py",
   "mimetype": "text/x-python",
   "name": "python",
   "nbconvert_exporter": "python",
   "pygments_lexer": "ipython3",
   "version": "3.9.13"
  }
 },
 "nbformat": 4,
 "nbformat_minor": 2
}

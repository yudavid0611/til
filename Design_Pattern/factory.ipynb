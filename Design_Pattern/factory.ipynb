{
 "cells": [
  {
   "cell_type": "markdown",
   "metadata": {},
   "source": [
    "# 팩토리 패턴(Factory Pattern)"
   ]
  },
  {
   "cell_type": "markdown",
   "metadata": {},
   "source": [
    "- 참고: [헤드 퍼스트 디자인 패턴](https://ebook-product.kyobobook.co.kr/dig/epd/ebook/E000002942608) Chapter4. 팩토리 패턴"
   ]
  },
  {
   "cell_type": "markdown",
   "metadata": {},
   "source": [
    "## 1. 주요 내용\n"
   ]
  },
  {
   "cell_type": "markdown",
   "metadata": {},
   "source": [
    "## 2. TO-DO"
   ]
  },
  {
   "cell_type": "markdown",
   "metadata": {},
   "source": [
    "### 2-1. 상기 책의 151p~에 나와 있는 간단한 팩토리(simple factory) 구현해보기"
   ]
  },
  {
   "cell_type": "code",
   "execution_count": 1,
   "metadata": {},
   "outputs": [],
   "source": [
    "from abc import *"
   ]
  },
  {
   "cell_type": "code",
   "execution_count": 2,
   "metadata": {},
   "outputs": [],
   "source": [
    "# 피자 객체를 생성하는 팩토리\n",
    "class SimplePizzaFactory:\n",
    "    @staticmethod\n",
    "    def create_pizza(pizza_type):\n",
    "        if pizza_type == 'cheese':\n",
    "            pizza = CheesePizza()\n",
    "        elif pizza_type == 'pepperoni':\n",
    "            pizza = PepperoniPizza()\n",
    "        \n",
    "        return pizza\n",
    "            \n",
    "\n",
    "# 팩토리를 사용하는 클라이언트인 피자 가게 클래스\n",
    "class PizzaStore:\n",
    "    def __init__(self, factory: SimplePizzaFactory):\n",
    "        self.factory = factory\n",
    "        \n",
    "    def order_pizza(self, pizza_type):\n",
    "        pizza = self.factory.create_pizza(pizza_type)\n",
    "        \n",
    "        pizza.prepare()\n",
    "        pizza.bake()\n",
    "        pizza.cut()\n",
    "        pizza.box()\n",
    "        \n",
    "        print(f'{pizza.pizza_name}가 준비되었습니다.')\n",
    "\n",
    "\n",
    "# 팩토리에서 만드는 피자\n",
    "class Pizza(metaclass=ABCMeta):\n",
    "    @abstractmethod\n",
    "    def prepare():\n",
    "        pass\n",
    "    \n",
    "    @abstractmethod\n",
    "    def bake():\n",
    "        pass\n",
    "    \n",
    "    @abstractmethod\n",
    "    def cut():\n",
    "        pass\n",
    "    \n",
    "    @abstractmethod\n",
    "    def box():\n",
    "        pass\n",
    "\n",
    "\n",
    "# 피자 구상 클래스\n",
    "class PepperoniPizza(Pizza):\n",
    "    def __init__(self):\n",
    "        self.pizza_name = '페퍼로니 피자'\n",
    "        \n",
    "    def prepare(self):\n",
    "        print(f'{self.pizza_name} 재료를 준비합니다.')\n",
    "    \n",
    "    def bake(self):\n",
    "        print(f'{self.pizza_name}를 굽습니다.')\n",
    "    \n",
    "    def cut(self):\n",
    "        print(f'{self.pizza_name}를 자릅니다.')\n",
    "    \n",
    "    def box(self):\n",
    "        print(f'{self.pizza_name}를 박스 포장합니다.')\n",
    "\n",
    "\n",
    "# 피자 구상 클래스\n",
    "class CheesePizza(Pizza):\n",
    "    def __init__(self):\n",
    "        self.pizza_name = '치즈 피자'\n",
    "        \n",
    "    def prepare(self):\n",
    "        print(f'{self.pizza_name} 재료를 준비합니다.')\n",
    "    \n",
    "    def bake(self):\n",
    "        print(f'{self.pizza_name}를 굽습니다.')\n",
    "    \n",
    "    def cut(self):\n",
    "        print(f'{self.pizza_name}를 자릅니다.')\n",
    "    \n",
    "    def box(self):\n",
    "        print(f'{self.pizza_name}를 박스 포장합니다.')"
   ]
  },
  {
   "cell_type": "code",
   "execution_count": 3,
   "metadata": {},
   "outputs": [
    {
     "name": "stdout",
     "output_type": "stream",
     "text": [
      "치즈 피자 재료를 준비합니다.\n",
      "치즈 피자를 굽습니다.\n",
      "치즈 피자를 자릅니다.\n",
      "치즈 피자를 박스 포장합니다.\n",
      "치즈 피자가 준비되었습니다.\n"
     ]
    }
   ],
   "source": [
    "simple_pizza_factory = SimplePizzaFactory()\n",
    "pizza_store = PizzaStore(simple_pizza_factory)\n",
    "pizza_store.order_pizza('cheese')"
   ]
  },
  {
   "cell_type": "markdown",
   "metadata": {},
   "source": [
    "### 2-2. 상기 책의 154p~에 나와 있는 피자 가게 프레임워크 구현해보기\n",
    "- create_pizza() 메소드를 PizzaStore에서 관리\n",
    "- 슈퍼 클래스의 order_pizza()는 어떤 Pizza 객체에 대해 작업하는지 모름. 즉 PizzaStore와 Pizza는 완전히 분리되어 있음"
   ]
  },
  {
   "cell_type": "code",
   "execution_count": 4,
   "metadata": {},
   "outputs": [],
   "source": [
    "class PizzaStore(metaclass=ABCMeta):\n",
    "    def order_pizza(self, pizza_type):\n",
    "        pizza = self.create_pizza(pizza_type)\n",
    "        \n",
    "        pizza.prepare()\n",
    "        pizza.bake()\n",
    "        pizza.cut()\n",
    "        pizza.box()\n",
    "        \n",
    "        print(f'{pizza.pizza_name}가 준비되었습니다.')\n",
    "\n",
    "    @abstractmethod\n",
    "    def create_pizza(pizza_type):\n",
    "        pass\n",
    "    \n",
    "    \n",
    "# PizzaStore 서브 클래스(create_pizza 구현)\n",
    "class NYStylePizzaStore(PizzaStore):\n",
    "    @staticmethod\n",
    "    def create_pizza(pizza_type):\n",
    "        if pizza_type == 'cheese':\n",
    "            pizza = NYStyleCheesePizza()\n",
    "        elif pizza_type == 'pepperoni':\n",
    "            pizza = NYStylePepperoniPizza()\n",
    "        else:\n",
    "            raise\n",
    "        return pizza\n",
    "\n",
    "\n",
    "# PizzaStore 서브 클래스(create_pizza 구현)\n",
    "class ChicagoStylePizzaStore(PizzaStore):\n",
    "    @staticmethod\n",
    "    def create_pizza(pizza_type):\n",
    "        if pizza_type == 'cheese':\n",
    "            pizza = ChicagoStyleCheesePizza()\n",
    "        elif pizza_type == 'pepperoni':\n",
    "            pizza = ChicagoStylePepperoniPizza()\n",
    "        else:\n",
    "            raise\n",
    "        return pizza           \n",
    "\n",
    "\n",
    "class Pizza(metaclass=ABCMeta):\n",
    "    @abstractmethod\n",
    "    def prepare():\n",
    "        pass\n",
    "    \n",
    "    @abstractmethod\n",
    "    def bake():\n",
    "        pass\n",
    "    \n",
    "    @abstractmethod\n",
    "    def cut():\n",
    "        pass\n",
    "    \n",
    "    @abstractmethod\n",
    "    def box():\n",
    "        pass\n",
    "    \n",
    "\n",
    "# 피자 구상 클래스\n",
    "class NYStylePepperoniPizza(Pizza):\n",
    "    def __init__(self):\n",
    "        self.pizza_name = '뉴욕 스타일 페퍼로니 피자'\n",
    "        \n",
    "    def prepare(self):\n",
    "        print(f'{self.pizza_name} 재료를 준비합니다.')\n",
    "    \n",
    "    def bake(self):\n",
    "        print(f'{self.pizza_name}를 굽습니다.')\n",
    "    \n",
    "    def cut(self):\n",
    "        print(f'{self.pizza_name}를 자릅니다.')\n",
    "    \n",
    "    def box(self):\n",
    "        print(f'{self.pizza_name}를 박스 포장합니다.')\n",
    "\n",
    "\n",
    "# 피자 구상 클래스\n",
    "class ChicagoStylePepperoniPizza(Pizza):\n",
    "    def __init__(self):\n",
    "        self.pizza_name = '시카고 스타일 페퍼로니 피자'\n",
    "        \n",
    "    def prepare(self):\n",
    "        print(f'{self.pizza_name} 재료를 준비합니다.')\n",
    "    \n",
    "    def bake(self):\n",
    "        print(f'{self.pizza_name}를 굽습니다.')\n",
    "    \n",
    "    def cut(self):\n",
    "        print(f'{self.pizza_name}를 자릅니다.')\n",
    "    \n",
    "    def box(self):\n",
    "        print(f'{self.pizza_name}를 박스 포장합니다.')\n",
    "\n",
    "\n",
    "# 피자 구상 클래스\n",
    "class NYStyleCheesePizza(Pizza):\n",
    "    def __init__(self):\n",
    "        self.pizza_name = '뉴욕 스타일 치즈 피자'\n",
    "        \n",
    "    def prepare(self):\n",
    "        print(f'{self.pizza_name} 재료를 준비합니다.')\n",
    "    \n",
    "    def bake(self):\n",
    "        print(f'{self.pizza_name}를 굽습니다.')\n",
    "    \n",
    "    def cut(self):\n",
    "        print(f'{self.pizza_name}를 자릅니다.')\n",
    "    \n",
    "    def box(self):\n",
    "        print(f'{self.pizza_name}를 박스 포장합니다.')\n",
    "\n",
    "\n",
    "# 피자 구상 클래스\n",
    "class ChicagoStyleCheesePizza(Pizza):\n",
    "    def __init__(self):\n",
    "        self.pizza_name = '시카고 스타일 치즈 피자'\n",
    "        \n",
    "    def prepare(self):\n",
    "        print(f'{self.pizza_name} 재료를 준비합니다.')\n",
    "    \n",
    "    def bake(self):\n",
    "        print(f'{self.pizza_name}를 굽습니다.')\n",
    "    \n",
    "    def cut(self):\n",
    "        print(f'{self.pizza_name}를 자릅니다.')\n",
    "    \n",
    "    def box(self):\n",
    "        print(f'{self.pizza_name}를 박스 포장합니다.')"
   ]
  },
  {
   "cell_type": "code",
   "execution_count": 5,
   "metadata": {},
   "outputs": [
    {
     "name": "stdout",
     "output_type": "stream",
     "text": [
      "뉴욕 스타일 페퍼로니 피자 재료를 준비합니다.\n",
      "뉴욕 스타일 페퍼로니 피자를 굽습니다.\n",
      "뉴욕 스타일 페퍼로니 피자를 자릅니다.\n",
      "뉴욕 스타일 페퍼로니 피자를 박스 포장합니다.\n",
      "뉴욕 스타일 페퍼로니 피자가 준비되었습니다.\n"
     ]
    }
   ],
   "source": [
    "NY_pizza_store = NYStylePizzaStore()\n",
    "NY_pizza_store.order_pizza('pepperoni')"
   ]
  },
  {
   "cell_type": "markdown",
   "metadata": {},
   "source": [
    "### 2-3. 상기 책의 180p~에 나와 있는 팩토리 메소드 구현하기"
   ]
  },
  {
   "cell_type": "code",
   "execution_count": 6,
   "metadata": {},
   "outputs": [],
   "source": [
    "# 원재료 클래스\n",
    "# 원재료를 생산하는 팩토리용 인터페이스\n",
    "class PizzaIngredientFactory(metaclass=ABCMeta):\n",
    "    @abstractmethod\n",
    "    def create_dough():\n",
    "        pass\n",
    "    \n",
    "    @abstractmethod\n",
    "    def create_sauce():\n",
    "        pass\n",
    "    \n",
    "    @abstractmethod\n",
    "    def create_cheese():\n",
    "        pass\n",
    "    \n",
    "    @abstractmethod\n",
    "    def create_veggies():\n",
    "        pass"
   ]
  },
  {
   "cell_type": "code",
   "execution_count": null,
   "metadata": {},
   "outputs": [],
   "source": [
    "# NY 원재료 팩토리\n",
    "class NYPizzaIngredientFactory(PizzaIngredientFactory):\n",
    "    def create_dough():\n",
    "        return \n",
    "    \n",
    "    def create_sauce():\n",
    "        pass\n",
    "    \n",
    "    def create_cheese():\n",
    "        pass\n",
    "    \n",
    "    def create_veggies():\n",
    "        pass"
   ]
  }
 ],
 "metadata": {
  "kernelspec": {
   "display_name": "base",
   "language": "python",
   "name": "python3"
  },
  "language_info": {
   "codemirror_mode": {
    "name": "ipython",
    "version": 3
   },
   "file_extension": ".py",
   "mimetype": "text/x-python",
   "name": "python",
   "nbconvert_exporter": "python",
   "pygments_lexer": "ipython3",
   "version": "3.9.13"
  }
 },
 "nbformat": 4,
 "nbformat_minor": 2
}

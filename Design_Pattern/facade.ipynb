{
 "cells": [
  {
   "cell_type": "markdown",
   "metadata": {},
   "source": [
    "# Facade Pattern\n",
    "> - 참고: [헤드 퍼스트 디자인 패턴](https://ebook-product.kyobobook.co.kr/dig/epd/ebook/E000002942608) Chapter7. 어댑터 패턴과 퍼사드 패턴"
   ]
  },
  {
   "cell_type": "markdown",
   "metadata": {},
   "source": [
    "To-do\n",
    "- 집에 홈시어터가 있다. 그런데 홈시어터에서 영화 한 편을 보기 위해서는 아래와 같은 절차를 거쳐야 한다.\n",
    "    1. 팝콘 기계를 켠다.\n",
    "    2. 팝콘을 튀긴다.\n",
    "    3. 조명을 어둡게 조절한다.\n",
    "    4. 스크린을 내린다.\n",
    "    5. 프로젝터를 켠다.\n",
    "    6. 프로젝터 입력을 스트리밍 플레이어로 설정한다.\n",
    "        \n",
    "        (이하 생략)\n",
    "\n",
    "\n",
    "- 위 과정을 하나하나 처리해야 한다면 클라이언트는 다양한 클래스를 직접적으로 알아야 한다. 이러한 복잡성을 없애고 클라이언트가 쉽게 영화를 볼 수 있도록 퍼사드 패턴을 이용해본다."
   ]
  },
  {
   "cell_type": "code",
   "execution_count": 2,
   "metadata": {},
   "outputs": [],
   "source": [
    "# 팝콘 기계\n",
    "class PopcornMachine:\n",
    "    def on(self):\n",
    "        pass\n",
    "\n",
    "    def off(self):\n",
    "        pass\n",
    "\n",
    "    def pop(self):\n",
    "        pass\n",
    "\n",
    "\n",
    "# 빔 프로젝터\n",
    "class Projector:\n",
    "    def on(self):\n",
    "        pass\n",
    "\n",
    "    def off(self):\n",
    "        pass\n",
    "\n",
    "    def tv_mode(self):\n",
    "        pass\n",
    "\n",
    "    def wide_screen_mode(self):\n",
    "        pass\n",
    "\n",
    "\n",
    "# 스트리밍 플레이어\n",
    "class StreamingPlayer:\n",
    "    def on(self):\n",
    "        pass\n",
    "\n",
    "    def off(self):\n",
    "        pass\n",
    "\n",
    "    def pause(self):\n",
    "        pass\n",
    "\n",
    "    def play(self):\n",
    "        pass\n",
    "    \n",
    "    def stop(self):\n",
    "        pass\n",
    "\n",
    "\n",
    "# 스크린\n",
    "class Screen:\n",
    "    def up(self):\n",
    "        pass\n",
    "\n",
    "    def down(self):\n",
    "        pass"
   ]
  },
  {
   "cell_type": "code",
   "execution_count": null,
   "metadata": {},
   "outputs": [],
   "source": [
    "# 홈시어터 퍼사드 클래스\n",
    "class HomeTheaterFacade:\n",
    "    def __init__(self, streaming_player: StreamingPlayer, screen: Screen, projector: Projector, popcorn_machine: PopcornMachine):\n",
    "        self.streaming_player = streaming_player\n",
    "        self.screen = screen\n",
    "        self.projector = projector\n",
    "        self.popcorn_machine = popcorn_machine\n",
    "    \n",
    "    def watch_movie(self):\n",
    "        self.popcorn_machine.on()\n",
    "        self.popcorn_machine.pop()\n",
    "\n",
    "        self.projector.on()\n",
    "        self.streaming_player.on()\n",
    "\n",
    "        self.screen.down()\n",
    "\n",
    "        ## 더 많은 클래스와 메서드가 필요하지만 이정도만... ##\n",
    "\n",
    "\n",
    "        '''\n",
    "        클라이언트는 watch_movie 메서드만 알고 있으면 영화를 쉽게 시청할 수 있다.\n",
    "        '''\n"
   ]
  }
 ],
 "metadata": {
  "kernelspec": {
   "display_name": "Python 3",
   "language": "python",
   "name": "python3"
  },
  "language_info": {
   "codemirror_mode": {
    "name": "ipython",
    "version": 3
   },
   "file_extension": ".py",
   "mimetype": "text/x-python",
   "name": "python",
   "nbconvert_exporter": "python",
   "pygments_lexer": "ipython3",
   "version": "3.9.13"
  }
 },
 "nbformat": 4,
 "nbformat_minor": 2
}

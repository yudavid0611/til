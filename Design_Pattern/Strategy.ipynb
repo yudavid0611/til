{
 "cells": [
  {
   "cell_type": "markdown",
   "metadata": {},
   "source": [
    "# 전략 패턴(Strategy Pattern)"
   ]
  },
  {
   "cell_type": "markdown",
   "metadata": {},
   "source": [
    "- 참고: [헤드 퍼스트 디자인 패턴](https://ebook-product.kyobobook.co.kr/dig/epd/ebook/E000002942608) Chapter1. 디자인 패턴 소개와 전략 패턴"
   ]
  },
  {
   "cell_type": "markdown",
   "metadata": {},
   "source": [
    "## 1. 주요 내용\n",
    "- 전략 패턴에 있어서 중요한 디자인 원칙 세 가지\n",
    "    1. 캡슐화: 달라지는 부분과 달라지지 않는 부분 분리\n",
    "    2. 인터페이스: 각 행동을 인터페이스로 표현하고, 인터페이스를 사용해 행동을 구현한다.\n",
    "    3. 구성: 상속보다 구성을 활용한다.\n",
    "\n",
    "- 전략 패턴이란: 알고리즘군을 정의하고 캡슐화해서 각각의 알고리즘군을 수정해서 쓸 수 있게 해준다.\n",
    "\n",
    "- 디자인 패턴\n",
    "    - 대부분의 패턴과 원칙은 `소프트웨어 변경 문제`와 연관되어 있다."
   ]
  },
  {
   "cell_type": "markdown",
   "metadata": {},
   "source": [
    "## 2. TO-DO\n",
    "- 상기 책의 61p에 나와 있는 디자인 퍼즐 구현해보기\n",
    "- 상세 내용\n",
    "    > (생략) 게임 캐릭터용 클래스와 캐릭터가 사용할 무기의 행동 클래스를 찾을 수 있습니다. 각 캐릭터는 한 번에 한 가지 무기만 사용할 수 있지만, 게임 도중에 무기를 바꿀 수 있습니다. (생략)"
   ]
  },
  {
   "cell_type": "markdown",
   "metadata": {},
   "source": [
    "### 2-1. 사전 학습\n",
    "- 추상 클래스와 인터페이스([참고](https://yoondii.tistory.com/71))\n",
    "    - 추상 클래스\n",
    "        - 구현 내용이 없고 메소드 목록만 가진 클래스\n",
    "        - 추상 클래스 자체로는 인스턴스화가 불가능하다.\n",
    "    - 인터페이스\n",
    "        - 추상 메소드만 있고 일반 메소드는 없는 추상 클래스"
   ]
  },
  {
   "cell_type": "markdown",
   "metadata": {},
   "source": [
    "### 2-2. 구현"
   ]
  },
  {
   "cell_type": "markdown",
   "metadata": {},
   "source": [
    "abc 모듈을 통해 파이썬에서 추상 클래스를 만들 수 있다."
   ]
  },
  {
   "cell_type": "code",
   "execution_count": 1,
   "metadata": {},
   "outputs": [],
   "source": [
    "from abc import *"
   ]
  },
  {
   "cell_type": "code",
   "execution_count": 2,
   "metadata": {},
   "outputs": [],
   "source": [
    "# 무기 행동 인터페이스\n",
    "class WeaponBehavior(metaclass=ABCMeta):\n",
    "\n",
    "    # 추상 메소드\n",
    "    @abstractmethod\n",
    "    def use_weapon(self):\n",
    "        pass\n",
    "\n",
    "\n",
    "# 캐릭터 슈퍼 클래스\n",
    "class Character:\n",
    "    def fight(self):\n",
    "        return self.weapon_behavior.use_weapon()\n",
    "\n",
    "    # 무기 행동 교체\n",
    "    def set_weapon_behavior(self, new_weapon_behavior):\n",
    "        self.weapon_behavior = new_weapon_behavior\n"
   ]
  },
  {
   "cell_type": "code",
   "execution_count": 3,
   "metadata": {},
   "outputs": [],
   "source": [
    "# 각종 무기의 행동 구현\n",
    "class KnifeBehavior(WeaponBehavior):\n",
    "    def use_weapon(self):\n",
    "        return '칼을 푹'\n",
    "\n",
    "\n",
    "class BowAndArrowBehavior(WeaponBehavior):\n",
    "    def use_weapon(self):\n",
    "        return '활을 쑝'\n",
    "\n",
    "\n",
    "class AxeBehavior(WeaponBehavior):\n",
    "    def use_weapon(self):\n",
    "        return '도끼를 홱'\n",
    "\n",
    "\n",
    "class HandBehavior(WeaponBehavior):\n",
    "    def use_weapon(self):\n",
    "        return '손을 휙'"
   ]
  },
  {
   "cell_type": "code",
   "execution_count": 4,
   "metadata": {},
   "outputs": [],
   "source": [
    "# 왕 캐릭터 구현\n",
    "class King(Character):\n",
    "    def __init__(self):\n",
    "        super().__init__()\n",
    "\n",
    "        # 초기값은 손 행동으로 할당\n",
    "        self.weapon_behavior = HandBehavior()\n",
    "    \n",
    "    def __str__(self):\n",
    "        return '저는 King입니다.'"
   ]
  },
  {
   "cell_type": "code",
   "execution_count": 5,
   "metadata": {},
   "outputs": [],
   "source": [
    "# 인스턴스 생성\n",
    "character1 = King()"
   ]
  },
  {
   "cell_type": "code",
   "execution_count": 6,
   "metadata": {},
   "outputs": [
    {
     "name": "stdout",
     "output_type": "stream",
     "text": [
      "저는 King입니다.\n",
      "손을 휙\n"
     ]
    }
   ],
   "source": [
    "print(character1)\n",
    "print(character1.fight())"
   ]
  },
  {
   "cell_type": "code",
   "execution_count": 7,
   "metadata": {},
   "outputs": [
    {
     "name": "stdout",
     "output_type": "stream",
     "text": [
      "저는 King입니다.\n",
      "활을 쑝\n"
     ]
    }
   ],
   "source": [
    "# 무기 행동 교체\n",
    "character1.set_weapon_behavior(BowAndArrowBehavior())\n",
    "print(character1)\n",
    "print(character1.fight())"
   ]
  }
 ],
 "metadata": {
  "kernelspec": {
   "display_name": "base",
   "language": "python",
   "name": "python3"
  },
  "language_info": {
   "codemirror_mode": {
    "name": "ipython",
    "version": 3
   },
   "file_extension": ".py",
   "mimetype": "text/x-python",
   "name": "python",
   "nbconvert_exporter": "python",
   "pygments_lexer": "ipython3",
   "version": "3.8.8"
  }
 },
 "nbformat": 4,
 "nbformat_minor": 2
}

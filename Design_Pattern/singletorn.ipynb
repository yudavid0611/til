{
 "cells": [
  {
   "cell_type": "markdown",
   "metadata": {},
   "source": [
    "# 싱글톤 패턴(Singleton Pattern)"
   ]
  },
  {
   "cell_type": "markdown",
   "metadata": {},
   "source": [
    "> 참고: https://velog.io/@tiger/CS-%EC%8B%B1%EA%B8%80%ED%86%A4-%ED%8C%A8%ED%84%B4-%EC%9D%98%EC%A1%B4%EC%84%B1-%EC%A3%BC%EC%9E%85"
   ]
  },
  {
   "cell_type": "code",
   "execution_count": null,
   "metadata": {},
   "outputs": [],
   "source": []
  },
  {
   "cell_type": "code",
   "execution_count": 3,
   "metadata": {},
   "outputs": [],
   "source": [
    "class Singleton:\n",
    "    # __new__는 인스턴스 생성 시 가장 먼저 호출되는 메서드\n",
    "    def __new__(cls, *args):\n",
    "        \n",
    "        # 클래스에서 _instance 속성이 없을 경우 \n",
    "        if not hasattr(cls, \"_instance\"):\n",
    "            print(\"__new__ is called\\n\")\n",
    "        \n",
    "            # Singleton 클래스의 인스턴스를 생성하고\n",
    "            # _instance 속성에 바인딩\n",
    "            cls._instance = super().__new__(cls)  \n",
    "        return cls._instance\n",
    "\n",
    "    def __init__(self, data):\n",
    "        cls = type(self)\n",
    "\n",
    "        # Singleton 클래스에 _init 속성이 없다면(인스턴스가 만들어지지 않음)\n",
    "        if not hasattr(cls, \"_init\"):\n",
    "            print(\"__init__ is called\\n\")\n",
    "            self.data = data\n",
    "            cls._init = True"
   ]
  },
  {
   "cell_type": "code",
   "execution_count": 4,
   "metadata": {},
   "outputs": [
    {
     "name": "stdout",
     "output_type": "stream",
     "text": [
      "__new__ is called\n",
      "\n",
      "__init__ is called\n",
      "\n"
     ]
    }
   ],
   "source": [
    "s1 = Singleton(1)"
   ]
  },
  {
   "cell_type": "markdown",
   "metadata": {},
   "source": [
    "새롭게 인스턴스를 생성하려고 해도 생성되지 않는다.\n",
    "즉 이전에 생성되었던 인스턴스가 return된다."
   ]
  },
  {
   "cell_type": "code",
   "execution_count": 5,
   "metadata": {},
   "outputs": [],
   "source": [
    "s2 = Singleton(2)"
   ]
  },
  {
   "cell_type": "code",
   "execution_count": 6,
   "metadata": {},
   "outputs": [
    {
     "name": "stdout",
     "output_type": "stream",
     "text": [
      "<__main__.Singleton object at 0x0000024ABC452700>\n",
      "<__main__.Singleton object at 0x0000024ABC452700>\n"
     ]
    }
   ],
   "source": [
    "print(s1._instance)\n",
    "print(s2._instance)"
   ]
  }
 ],
 "metadata": {
  "kernelspec": {
   "display_name": "base",
   "language": "python",
   "name": "python3"
  },
  "language_info": {
   "codemirror_mode": {
    "name": "ipython",
    "version": 3
   },
   "file_extension": ".py",
   "mimetype": "text/x-python",
   "name": "python",
   "nbconvert_exporter": "python",
   "pygments_lexer": "ipython3",
   "version": "3.8.8"
  }
 },
 "nbformat": 4,
 "nbformat_minor": 2
}

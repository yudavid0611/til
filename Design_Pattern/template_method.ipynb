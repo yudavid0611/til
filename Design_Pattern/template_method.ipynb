{
 "cells": [
  {
   "cell_type": "markdown",
   "metadata": {},
   "source": [
    "# 템플릿 메소드 패턴(Template Method Pattern)"
   ]
  },
  {
   "cell_type": "markdown",
   "metadata": {},
   "source": [
    "- 참고: [헤드 퍼스트 디자인 패턴](https://ebook-product.kyobobook.co.kr/dig/epd/ebook/E000002942608) Chapter8. 템플릿 메소드 패턴"
   ]
  },
  {
   "cell_type": "code",
   "execution_count": 1,
   "metadata": {},
   "outputs": [],
   "source": [
    "from abc import ABCMeta, abstractmethod"
   ]
  },
  {
   "cell_type": "code",
   "execution_count": 2,
   "metadata": {},
   "outputs": [],
   "source": [
    "class CaffeineBeverage(metaclass=ABCMeta):\n",
    "\n",
    "    # 템플릿 메소드\n",
    "    def prepare_recipe(self):\n",
    "        self.boil_water()\n",
    "        self.brew()\n",
    "        self.pour_in_cup()\n",
    "        \n",
    "        if self.customer_wants_condiments():\n",
    "            self.add_condiments()\n",
    "    \n",
    "    ## 서브 클래스에서 정의할 메소드 ##\n",
    "    @abstractmethod\n",
    "    def brew(self):\n",
    "        pass\n",
    "\n",
    "    @abstractmethod\n",
    "    def add_condiments(self):\n",
    "        pass\n",
    "\n",
    "\n",
    "    ## 추상 클래스에서 정의되는 메소드 ##\n",
    "    def boil_water(self):\n",
    "        print('물을 끓입니다.')\n",
    "    \n",
    "    def pour_in_cup(self):\n",
    "        print('컵에 붓습니다.')\n",
    "    \n",
    "\n",
    "    ## hook ##\n",
    "    def customer_wants_condiments(self):\n",
    "        return True"
   ]
  },
  {
   "cell_type": "code",
   "execution_count": 4,
   "metadata": {},
   "outputs": [],
   "source": [
    "class Coffee(CaffeineBeverage):\n",
    "    def brew(self):\n",
    "        print('필터로 커피를 우려냅니다.')\n",
    "\n",
    "    def add_condiments(self):\n",
    "        print('우유와 설탕을 추가합니다.')\n",
    "    \n",
    "    def customer_wants_condiments(self):\n",
    "\n",
    "        # 고객에게 첨가물을 추가할지 물음\n",
    "        print('우유와 설탕을 넣을까요?')\n",
    "        answer = input()\n",
    "        if answer == 'y':\n",
    "            return True\n",
    "        else:\n",
    "            return False\n",
    "\n",
    "\n",
    "class Tea(CaffeineBeverage):\n",
    "    def brew(self):\n",
    "        print('찻잎을 우려냅니다.')\n",
    "\n",
    "    def add_condiments(self):\n",
    "        print('레몬을 추가합니다.')\n",
    "    \n",
    "    def customer_wants_condiments(self):\n",
    "\n",
    "        # 고객에게 첨가물을 추가할지 물음\n",
    "        answer = input()\n",
    "        if answer == 'y':\n",
    "            return True\n",
    "        else:\n",
    "            return False"
   ]
  },
  {
   "cell_type": "code",
   "execution_count": 6,
   "metadata": {},
   "outputs": [
    {
     "name": "stdout",
     "output_type": "stream",
     "text": [
      "커피 준비 중\n",
      "물을 끓입니다.\n",
      "필터로 커피를 우려냅니다.\n",
      "컵에 붓습니다.\n",
      "우유와 설탕을 넣을까요?\n",
      "홍차 준비 중\n",
      "물을 끓입니다.\n",
      "찻잎을 우려냅니다.\n",
      "컵에 붓습니다.\n",
      "레몬을 추가합니다.\n"
     ]
    }
   ],
   "source": [
    "coffee = Coffee()\n",
    "tea = Tea()\n",
    "\n",
    "print('커피 준비 중')\n",
    "coffee.prepare_recipe()\n",
    "\n",
    "print('홍차 준비 중')\n",
    "tea.prepare_recipe()\n"
   ]
  }
 ],
 "metadata": {
  "kernelspec": {
   "display_name": "Python 3",
   "language": "python",
   "name": "python3"
  },
  "language_info": {
   "codemirror_mode": {
    "name": "ipython",
    "version": 3
   },
   "file_extension": ".py",
   "mimetype": "text/x-python",
   "name": "python",
   "nbconvert_exporter": "python",
   "pygments_lexer": "ipython3",
   "version": "3.9.13"
  }
 },
 "nbformat": 4,
 "nbformat_minor": 2
}

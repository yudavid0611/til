{
 "cells": [
  {
   "cell_type": "markdown",
   "metadata": {},
   "source": [
    "# 옵저버 패턴(Observer Pattern)"
   ]
  },
  {
   "cell_type": "markdown",
   "metadata": {},
   "source": [
    "- 참고: [헤드 퍼스트 디자인 패턴](https://ebook-product.kyobobook.co.kr/dig/epd/ebook/E000002942608) Chapter2. 객체들에게 연락 돌리기(옵저버 패턴)"
   ]
  },
  {
   "cell_type": "markdown",
   "metadata": {},
   "source": [
    "# 1. 주요 내용\n",
    "- 옵저버 패턴이란?\n",
    "    - 한 객체의 상태가 변하면 그 객체에 의존하는 객체에게 연락이 가고, 자동으로 내용이 갱신되는 방식\n",
    "    - 일대다 관계를 가진다.\n",
    "    - 주제(Subject)는 동일한 인터페이스로 옵저버에게 연락한다.\n",
    "    - 주제가 데이터를 보내는 `Push 방식`과 옵저버가 데이터를 가져오는 `Pull 방식`이 있다. 일반적으로 Pull 방식이 더 옳다고 여겨진다.\n",
    "\n",
    "- 느슨한 결합(loose coupling)\n",
    "    - 단단한 바구니가 유연한 바구니보다 부서지기 쉽듯, 소프트웨어도 한 객체가 다른 객체에 심하게 의존하면 부서지기 쉽다.\n",
    "    - 객체가 느슨하게 결합되어 있다는 말의 의미는 의존은 하되 **다른 객체의 세세한 부분까지 다 알 필요가 없다는** 의미다.\n",
    "    - 옵저버 패턴은 느슨한 결합의 훌륭한 예시다."
   ]
  },
  {
   "cell_type": "markdown",
   "metadata": {},
   "source": [
    "# 2. TO-DO\n",
    "- 상기 책에서 설명하는 옵저버 패턴 예시를 파이썬으로 구현해보기\n",
    "- Subject: 기상 스테이션으로부터 받는 데이터를 추적하는 객체\n",
    "- Observer: 위 객체에 의존하여 필요한 데이터를 받아 사용하는 객체"
   ]
  },
  {
   "cell_type": "code",
   "execution_count": 1,
   "metadata": {},
   "outputs": [],
   "source": [
    "from abc import *"
   ]
  },
  {
   "cell_type": "code",
   "execution_count": 2,
   "metadata": {},
   "outputs": [],
   "source": [
    "# 주제(Subject) 인터페이스\n",
    "class Subject(metaclass=ABCMeta):\n",
    "    @abstractmethod\n",
    "    def register_observer():\n",
    "        pass\n",
    "    \n",
    "    @abstractmethod\n",
    "    def remove_observer():\n",
    "        pass\n",
    "    \n",
    "    @abstractmethod\n",
    "    def notify_observer():\n",
    "        pass\n",
    "\n",
    "\n",
    "# 옵저버(Observer) 인터페이스\n",
    "class Observer(metaclass=ABCMeta):\n",
    "    @abstractmethod\n",
    "    def update():\n",
    "        pass\n",
    "\n",
    "\n",
    "# 디스플레이 인터페이스\n",
    "class DisplayElement(metaclass=ABCMeta):\n",
    "    @abstractmethod\n",
    "    def display():\n",
    "        pass"
   ]
  },
  {
   "cell_type": "code",
   "execution_count": 3,
   "metadata": {},
   "outputs": [],
   "source": [
    "# Subject 구현 클래스\n",
    "class WeatherData(Subject):\n",
    "    def __init__(self):\n",
    "        self.observers = []\n",
    "        self.temperature = 0\n",
    "        self.humidity = 0\n",
    "        self.pressure = 0\n",
    "        \n",
    "    def register_observer(self, observer:Observer):\n",
    "        if observer in self.observers:\n",
    "            print('WeatherData | 이미 등록된 observer입니다.')\n",
    "            return\n",
    "        \n",
    "        self.observers.append(observer)\n",
    "        print(f'WeatherData | {observer}를 성공적으로 등록했습니다.')\n",
    "    \n",
    "    def remove_observer(self, observer:Observer):\n",
    "        if observer not in self.observers:\n",
    "            print('WeatherData | 등록되지 않은 Observer입니다.')\n",
    "            return\n",
    "        \n",
    "        self.observers.remove(observer)\n",
    "        print(f'WeatherData | {observer}를 성공적으로 삭제했습니다.')\n",
    "    \n",
    "    def notify_observer(self):\n",
    "        for observer in self.observers:\n",
    "            observer.update()\n",
    "    \n",
    "    def get_temperature(self):\n",
    "        return self.temperature\n",
    "    \n",
    "    def get_humidity(self):\n",
    "        return self.humidity\n",
    "    \n",
    "    def get_pressure(self):\n",
    "        return self.pressure\n",
    "    \n",
    "    def measurements_changed(self):\n",
    "        self.notify_observer()\n",
    "    \n",
    "    # 이 메소드를 통해 기상 스테이션으로부터 새로운 데이터를 받는다고 가정\n",
    "    def set_weather_data(self, temperature:float=None, humidity:float=None, pressure:float=None):\n",
    "        self.temperature = temperature\n",
    "        self.humidity = humidity\n",
    "        self.pressure = pressure\n",
    "        self.measurements_changed()\n",
    "        print('WeatherData | 기상 데이터가 갱신되었습니다.')"
   ]
  },
  {
   "cell_type": "code",
   "execution_count": 4,
   "metadata": {},
   "outputs": [],
   "source": [
    "# Observer 구현 클래스\n",
    "# 기온 데이터의 최솟값, 최댓값, 평균값을 보여주는 디스플레이\n",
    "class StatisticsDisplay(Observer, DisplayElement):\n",
    "    def __init__(self, weather_data:WeatherData):\n",
    "        self.weather_data = weather_data\n",
    "        self.temperatures = []\n",
    "        \n",
    "        # 인스턴스 생성 시 바로 Observer 등록\n",
    "        self.start_observing()\n",
    "        \n",
    "    def update(self):\n",
    "        # 필요한 정보인 기온 정보만 가져온다.\n",
    "        self.temperatures.append(self.weather_data.get_temperature())\n",
    "        print('StatisticsDisplay | 기온 데이터를 가져왔습니다.')\n",
    "    \n",
    "    def display(self):\n",
    "        content = f'''\n",
    "        최대 기온: {max(self.temperatures)}\n",
    "        최소 기온: {min(self.temperatures)}\n",
    "        평균 기온: {sum(self.temperatures) / len(self.temperatures)}\n",
    "        '''\n",
    "        return content\n",
    "    \n",
    "    def start_observing(self):\n",
    "        self.weather_data.register_observer(self)\n",
    "\n",
    "    def stop_observing(self):\n",
    "        self.weather_data.remove_observer(self)\n",
    "        \n",
    "    def __repr__(self):\n",
    "        return '통계 디스플레이'"
   ]
  },
  {
   "cell_type": "code",
   "execution_count": 5,
   "metadata": {},
   "outputs": [
    {
     "name": "stdout",
     "output_type": "stream",
     "text": [
      "WeatherData | 통계 디스플레이를 성공적으로 등록했습니다.\n"
     ]
    }
   ],
   "source": [
    "# WeatherData 인스턴스 만들기\n",
    "weather_data = WeatherData()\n",
    "\n",
    "# StatisticsDisplay 인스턴스 만들기\n",
    "statistics_display = StatisticsDisplay(weather_data)"
   ]
  },
  {
   "cell_type": "code",
   "execution_count": 6,
   "metadata": {},
   "outputs": [
    {
     "name": "stdout",
     "output_type": "stream",
     "text": [
      "StatisticsDisplay | 기온 데이터를 가져왔습니다.\n",
      "WeatherData | 기상 데이터가 갱신되었습니다.\n",
      "StatisticsDisplay | 기온 데이터를 가져왔습니다.\n",
      "WeatherData | 기상 데이터가 갱신되었습니다.\n",
      "StatisticsDisplay | 기온 데이터를 가져왔습니다.\n",
      "WeatherData | 기상 데이터가 갱신되었습니다.\n",
      "StatisticsDisplay | 기온 데이터를 가져왔습니다.\n",
      "WeatherData | 기상 데이터가 갱신되었습니다.\n"
     ]
    }
   ],
   "source": [
    "# 기상 데이터 갱신하기\n",
    "weather_data.set_weather_data(temperature=30)\n",
    "weather_data.set_weather_data(temperature=40)\n",
    "weather_data.set_weather_data(temperature=20)\n",
    "weather_data.set_weather_data(temperature=15)"
   ]
  },
  {
   "cell_type": "code",
   "execution_count": 7,
   "metadata": {},
   "outputs": [
    {
     "name": "stdout",
     "output_type": "stream",
     "text": [
      "\n",
      "        최대 기온: 40\n",
      "        최소 기온: 15\n",
      "        평균 기온: 26.25\n",
      "        \n"
     ]
    }
   ],
   "source": [
    "# 갱신된 데이터를 받아 제대로 출력하는지 확인\n",
    "print(statistics_display.display())"
   ]
  }
 ],
 "metadata": {
  "kernelspec": {
   "display_name": "venv",
   "language": "python",
   "name": "python3"
  },
  "language_info": {
   "codemirror_mode": {
    "name": "ipython",
    "version": 3
   },
   "file_extension": ".py",
   "mimetype": "text/x-python",
   "name": "python",
   "nbconvert_exporter": "python",
   "pygments_lexer": "ipython3",
   "version": "3.9.13"
  }
 },
 "nbformat": 4,
 "nbformat_minor": 2
}

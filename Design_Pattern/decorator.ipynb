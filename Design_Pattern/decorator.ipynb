{
 "cells": [
  {
   "cell_type": "markdown",
   "metadata": {},
   "source": [
    "# 데코레이터 패턴(Decorator Pattern)"
   ]
  },
  {
   "cell_type": "markdown",
   "metadata": {},
   "source": [
    "- 참고: [헤드 퍼스트 디자인 패턴](https://ebook-product.kyobobook.co.kr/dig/epd/ebook/E000002942608) Chapter3. 객체 꾸미기(데코레이터 패턴)"
   ]
  },
  {
   "cell_type": "markdown",
   "metadata": {},
   "source": [
    "# 1. 주요 내용\n",
    "- OCP(Open-Closed Principle)\n",
    "    - 클래스는 `확장`에는 열려 있어야 하고, `변경`에는 닫혀 있어야 한다.\n",
    "    - 모든 부분에서 OCP를 지키기란 쉽지 않다. `바뀔 가능성`이 높은 부분부터 OCP를 적용하는 것이 좋다.\n",
    "    - OCP를 적용하는 것이 무조건 좋은 것도 아니다. 시간을 낭비할 수 있고, 필요 이상으로 복잡하고 이해하기 힘든 코드를 만들 수 있다.\n",
    "\n",
    "- 데코레이터\n",
    "    - 데코레이터의 슈퍼 클래스는 자신이 장식하고 있는 객체의 슈퍼 클래스와 동일하다.\n",
    "    - 한 객체를 여러 데코레이터로 감쌀 수 있다.\n",
    "    - 데코레이터는 자신이 장식하고 있는 객체에게 어떤 행동을 위임하는 일 말고도 추가 작업을 수행할 수 있다.\n",
    "\n",
    "- 데코레이터 패턴\n",
    "    - 객체에 추가 요소를 동적으로 더한다.\n",
    "    - 서브클래스를 만들 때보다 `훨씬 유연하게` 기능을 확장할 수 있다.\n",
    "    - 데코레이터 패턴을 사용하면 자잘한 객체가 많이 추가될 수 있고, 너무 많이 사용하면 코드가 복잡해진다."
   ]
  },
  {
   "cell_type": "markdown",
   "metadata": {},
   "source": [
    "# 2. TO-DO\n",
    "- 상기 책에서 설명하는 데코레이터 패턴 예시를 파이썬으로 구현해보기\n",
    "- 커피 주문 시 추가될 수 있는 요소(ex. 우유, 모카 등)를 데코레이터 패턴으로 처리하기"
   ]
  },
  {
   "cell_type": "code",
   "execution_count": 1,
   "metadata": {},
   "outputs": [],
   "source": [
    "from abc import *"
   ]
  },
  {
   "cell_type": "code",
   "execution_count": 2,
   "metadata": {},
   "outputs": [],
   "source": [
    "# 추상 클래스\n",
    "class Beverage(metaclass=ABCMeta):\n",
    "    def __init__(self):\n",
    "        self.description = None\n",
    "        self.price = 0\n",
    "        \n",
    "    @abstractmethod\n",
    "    def cost(self):\n",
    "        pass\n",
    "    \n",
    "    def get_description(self):\n",
    "        return self.description"
   ]
  },
  {
   "cell_type": "code",
   "execution_count": 3,
   "metadata": {},
   "outputs": [],
   "source": [
    "# 커피 종류에 해당하는 구상 클래스\n",
    "class Espresso(Beverage):\n",
    "    def __init__(self):\n",
    "        super().__init__()\n",
    "        self.description = '에스프레소입니다.'\n",
    "        self.price = 10\n",
    "    \n",
    "    def cost(self):\n",
    "        return self.price\n",
    "\n",
    "\n",
    "class Decaf(Beverage):\n",
    "    def __init__(self):\n",
    "        super().__init__()\n",
    "        self.description = '디카페인입니다.'\n",
    "        self.price = 15\n",
    "        \n",
    "    def cost(self):\n",
    "        return self.price"
   ]
  },
  {
   "cell_type": "code",
   "execution_count": 4,
   "metadata": {},
   "outputs": [],
   "source": [
    "# 첨가물 추상클래스(데코레이터 클래스)\n",
    "class CondimentDecorator(Beverage):\n",
    "    def __init__(self, beverage: Beverage):\n",
    "        super().__init__()\n",
    "        self.beverage = beverage\n",
    "    \n",
    "    @abstractmethod\n",
    "    def cost(self):\n",
    "        pass\n",
    "    \n",
    "    def get_description(self):\n",
    "        return self.beverage.get_description() + ' ' + self.description"
   ]
  },
  {
   "cell_type": "code",
   "execution_count": 5,
   "metadata": {},
   "outputs": [],
   "source": [
    "# 첨가물의 구상 클래스\n",
    "class Milk(CondimentDecorator):\n",
    "    def __init__(self, beverage):\n",
    "        super().__init__(beverage)\n",
    "        self.description = '우유를 첨가합니다.'\n",
    "        self.price = 3\n",
    "        \n",
    "    def cost(self):\n",
    "        return self.beverage.cost() + self.price\n",
    "\n",
    "\n",
    "class Mocha(CondimentDecorator):\n",
    "    def __init__(self, beverage):\n",
    "        super().__init__(beverage)\n",
    "        self.description = '모카를 첨가합니다.'\n",
    "        self.price = 5\n",
    "    \n",
    "    def cost(self):\n",
    "        return self.beverage.cost() + self.price"
   ]
  },
  {
   "cell_type": "code",
   "execution_count": 6,
   "metadata": {},
   "outputs": [
    {
     "ename": "",
     "evalue": "",
     "output_type": "error",
     "traceback": [
      "\u001b[1;31mThe Kernel crashed while executing code in the current cell or a previous cell. \n",
      "\u001b[1;31mPlease review the code in the cell(s) to identify a possible cause of the failure. \n",
      "\u001b[1;31mClick <a href='https://aka.ms/vscodeJupyterKernelCrash'>here</a> for more info. \n",
      "\u001b[1;31mView Jupyter <a href='command:jupyter.viewOutput'>log</a> for further details."
     ]
    }
   ],
   "source": [
    "# 에스프레소에 우유를 첨가하기\n",
    "espresso = Espresso()\n",
    "espresso = Milk(espresso)\n",
    "print(espresso.get_description())\n",
    "print(f'가격은: {espresso.cost()}')"
   ]
  },
  {
   "cell_type": "code",
   "execution_count": null,
   "metadata": {},
   "outputs": [
    {
     "name": "stdout",
     "output_type": "stream",
     "text": [
      "에스프레소입니다. 모카를 첨가합니다. 모카를 첨가합니다.\n",
      "가격은: 20\n"
     ]
    }
   ],
   "source": [
    "# 디카페인에 모카를 2번 첨가하기\n",
    "espresso = Espresso()\n",
    "espresso = Mocha(espresso)\n",
    "espresso = Mocha(espresso)\n",
    "print(espresso.get_description())\n",
    "print(f'가격은: {espresso.cost()}')"
   ]
  },
  {
   "cell_type": "code",
   "execution_count": null,
   "metadata": {},
   "outputs": [],
   "source": []
  }
 ],
 "metadata": {
  "kernelspec": {
   "display_name": "venv",
   "language": "python",
   "name": "python3"
  },
  "language_info": {
   "codemirror_mode": {
    "name": "ipython",
    "version": 3
   },
   "file_extension": ".py",
   "mimetype": "text/x-python",
   "name": "python",
   "nbconvert_exporter": "python",
   "pygments_lexer": "ipython3",
   "version": "3.9.13"
  }
 },
 "nbformat": 4,
 "nbformat_minor": 2
}

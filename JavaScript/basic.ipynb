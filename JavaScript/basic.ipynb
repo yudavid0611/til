{
 "cells": [
  {
   "cell_type": "markdown",
   "metadata": {},
   "source": [
    "# javascript 기본"
   ]
  },
  {
   "cell_type": "markdown",
   "metadata": {},
   "source": [
    "## 유의사항\n",
    "- 세미콜론: 선택적 사용 가능. 세미콜론이 없으면 ASI에 의해 자동으로 세미콜론이 삽입된다.\n",
    "- 들여쓰기: 2칸 들여쓰기가 원칙이다.\n",
    "- 코드블럭: 파이썬이 들여쓰기를 통해 코드블럭을 구분한 것과 달리 중괄호를 사용하여 코드블럭을 구분한다.\n",
    "- 식별자\n",
    "  - 카멜 케이스: 변수, 객체, 함수\n",
    "  - 파스칼 케이스: 클래스, 생성자\n",
    "  - 대문자 스네이크 케이스: 상수"
   ]
  },
  {
   "cell_type": "markdown",
   "metadata": {},
   "source": [
    "## 변수"
   ]
  },
  {
   "cell_type": "code",
   "execution_count": 2,
   "metadata": {},
   "outputs": [
    {
     "name": "stdout",
     "output_type": "stream",
     "text": [
      "undefined\n",
      "0\n",
      "1\n"
     ]
    }
   ],
   "source": [
    "// let: 블록 스코프 지역 변수. 재할당 가능\n",
    "let temp1           // 선언\n",
    "console.log(temp1)\n",
    "\n",
    "let temp2 = 0       // 선언 + 할당\n",
    "console.log(temp2)\n",
    "\n",
    "\n",
    "// const: 블록 스코프 읽기 전용 상수. 재할당 불가. 선언 시 반드시 초기값 설정해야 함\n",
    "const temp3 = 1\n",
    "console.log(temp3)"
   ]
  },
  {
   "cell_type": "markdown",
   "metadata": {},
   "source": [
    "## 객체(object)\n",
    "- 속성(property)의 집합\n",
    "- key와 value로 표현\n",
    "  - key: 문자열만 가능. 띄어쓰기 등의 구분자가 있으면 따옴표로 묶어야 함"
   ]
  },
  {
   "cell_type": "code",
   "execution_count": 1,
   "metadata": {},
   "outputs": [
    {
     "name": "stdout",
     "output_type": "stream",
     "text": [
      "010-1234-5678\n",
      "28\n",
      "bulgogi\n",
      "sushi\n",
      "none\n"
     ]
    }
   ],
   "source": [
    "const david = {\n",
    "  phone: '010-1234-5678',\n",
    "  age: 28,\n",
    "  favoriteFood: {\n",
    "    korean: 'bulgogi',\n",
    "    japaness: 'sushi',\n",
    "  },\n",
    "  'etc property': 'none',\n",
    "}\n",
    "\n",
    "console.log(david.phone)\n",
    "console.log(david['age'])\n",
    "console.log(david['favoriteFood'].korean)\n",
    "console.log(david['favoriteFood']['japaness'])\n",
    "console.log(david['etc property'])"
   ]
  },
  {
   "cell_type": "code",
   "execution_count": 1,
   "metadata": {},
   "outputs": [
    {
     "name": "stdout",
     "output_type": "stream",
     "text": [
      "{\n",
      "  fruits: [ 'apple', 'banana', 'lemon' ],\n",
      "  beverages: [ 'coke', 'cider' ]\n",
      "}\n"
     ]
    }
   ],
   "source": [
    "// key와 변수의 이름이 같으면 축약 가능\n",
    "const fruits = ['apple', 'banana', 'lemon']\n",
    "const beverages = ['coke', 'cider']\n",
    "\n",
    "const markets = {\n",
    "  fruits,\n",
    "  beverages,\n",
    "}\n",
    "\n",
    "console.log(markets)"
   ]
  },
  {
   "cell_type": "code",
   "execution_count": 2,
   "metadata": {},
   "outputs": [
    {
     "name": "stdout",
     "output_type": "stream",
     "text": [
      "hi\n"
     ]
    }
   ],
   "source": [
    "// 메서드 선언 시 function 키워드 생략 가능\n",
    "const temp = {\n",
    "  // geeting: function () {\n",
    "  //   console.log('hi')\n",
    "  // }\n",
    "  greeting() {\n",
    "    console.log('hi')\n",
    "  }\n",
    "}\n",
    "\n",
    "temp.greeting()"
   ]
  },
  {
   "cell_type": "code",
   "execution_count": 1,
   "metadata": {},
   "outputs": [
    {
     "name": "stdout",
     "output_type": "stream",
     "text": [
      "{ country: [ 'korea', 'us', 'japan' ] }\n"
     ]
    }
   ],
   "source": [
    "// key 이름 동적 생성 가능\n",
    "const key = 'country'\n",
    "const value = ['korea', 'us', 'japan']\n",
    "\n",
    "const world = {\n",
    "  [key]: value,\n",
    "}\n",
    "\n",
    "console.log(world)"
   ]
  },
  {
   "cell_type": "code",
   "execution_count": 1,
   "metadata": {},
   "outputs": [
    {
     "name": "stdout",
     "output_type": "stream",
     "text": [
      "010-1234-5678 { korean: 'bulgogi', japaness: 'sushi' } 28 64\n"
     ]
    }
   ],
   "source": [
    "// 객체 속성 -> 변수\n",
    "const david = {\n",
    "  phone: '010-1234-5678',\n",
    "  age: 28,\n",
    "  weight: 64,\n",
    "  favoriteFood: {\n",
    "    korean: 'bulgogi',\n",
    "    japaness: 'sushi',\n",
    "  },\n",
    "}\n",
    "\n",
    "const { phone } = david\n",
    "const { favoriteFood } = david\n",
    "const { age, weight } = david\n",
    "\n",
    "console.log(phone, favoriteFood, age, weight)"
   ]
  },
  {
   "cell_type": "code",
   "execution_count": 1,
   "metadata": {},
   "outputs": [
    {
     "name": "stdout",
     "output_type": "stream",
     "text": [
      "{ c: 3, d: 4, a: 1, b: 2 }\n"
     ]
    }
   ],
   "source": [
    "// spread syntax\n",
    "const obj1 = {\n",
    "  'a': 1,\n",
    "  'b': 2,\n",
    "}\n",
    "\n",
    "const obj2 = {\n",
    "  'c': 3,\n",
    "  'd': 4,\n",
    "  ...obj1\n",
    "}\n",
    "\n",
    "console.log(obj2)"
   ]
  },
  {
   "cell_type": "markdown",
   "metadata": {},
   "source": [
    "## string"
   ]
  },
  {
   "cell_type": "code",
   "execution_count": 5,
   "metadata": {},
   "outputs": [
    {
     "name": "stdout",
     "output_type": "stream",
     "text": [
      "abcdef\n"
     ]
    }
   ],
   "source": [
    "// '+'으로 문자열 붙이기 \n",
    "const s1 = 'abc'\n",
    "const s2 = 'def'\n",
    "console.log(s1 + s2)"
   ]
  },
  {
   "cell_type": "code",
   "execution_count": 7,
   "metadata": {},
   "outputs": [
    {
     "name": "stdout",
     "output_type": "stream",
     "text": [
      "안녕 \n",
      "하세요!\n"
     ]
    }
   ],
   "source": [
    "// 줄바꿈\n",
    "const s3 = '안녕 \\n하세요!'\n",
    "console.log(s3)"
   ]
  },
  {
   "cell_type": "code",
   "execution_count": 8,
   "metadata": {},
   "outputs": [
    {
     "name": "stdout",
     "output_type": "stream",
     "text": [
      "David는 28세입니다.\n"
     ]
    }
   ],
   "source": [
    "// template literal: 따옴표가 아닌 backtick(`)\n",
    "const age = 28\n",
    "const message = `David는 ${age}세입니다.`   \n",
    "console.log(message)"
   ]
  },
  {
   "cell_type": "markdown",
   "metadata": {},
   "source": [
    "## empty values"
   ]
  },
  {
   "cell_type": "code",
   "execution_count": 1,
   "metadata": {},
   "outputs": [
    {
     "name": "stdout",
     "output_type": "stream",
     "text": [
      "null\n",
      "object\n",
      "undefined\n",
      "undefined\n"
     ]
    }
   ],
   "source": [
    "// null: 값이 없음을 의도적으로 표현\n",
    "const temp4 = null\n",
    "console.log(temp4)\n",
    "console.log(typeof temp4)\n",
    "\n",
    "\n",
    "// undefined: 값이 정의되어 있지 않음을 표현\n",
    "let temp5\n",
    "console.log(temp5)\n",
    "console.log(typeof temp5)\n"
   ]
  },
  {
   "cell_type": "markdown",
   "metadata": {},
   "source": [
    "## 연산자"
   ]
  },
  {
   "cell_type": "code",
   "execution_count": 5,
   "metadata": {},
   "outputs": [
    {
     "name": "stdout",
     "output_type": "stream",
     "text": [
      "10\n",
      "1\n",
      "10\n"
     ]
    }
   ],
   "source": [
    "// 할당\n",
    "let c = 0\n",
    "\n",
    "c += 10\n",
    "console.log(c)\n",
    "\n",
    "c -= 9\n",
    "console.log(c)\n",
    "\n",
    "c *= 10\n",
    "console.log(c)"
   ]
  },
  {
   "cell_type": "code",
   "execution_count": 7,
   "metadata": {},
   "outputs": [
    {
     "name": "stdout",
     "output_type": "stream",
     "text": [
      "true\n",
      "true\n"
     ]
    }
   ],
   "source": [
    "// 비교\n",
    "console.log('a' < 'b')\n",
    "console.log('ㄱ' < 'ㄴ')"
   ]
  },
  {
   "cell_type": "code",
   "execution_count": 8,
   "metadata": {},
   "outputs": [
    {
     "name": "stdout",
     "output_type": "stream",
     "text": [
      "true\n",
      "false\n"
     ]
    }
   ],
   "source": [
    "// 동등/일치 연산자\n",
    "const a = 1\n",
    "const b = '1'\n",
    "\n",
    "console.log(a == b)     // 비교 시 타입을 일치시킨 후 비교 진행\n",
    "console.log(a === b)    // 데이터 타입까지 비교\n"
   ]
  },
  {
   "cell_type": "code",
   "execution_count": 9,
   "metadata": {},
   "outputs": [
    {
     "name": "stdout",
     "output_type": "stream",
     "text": [
      "false\n",
      "true\n",
      "false\n"
     ]
    }
   ],
   "source": [
    "// 논리\n",
    "console.log(true && false)    // and\n",
    "console.log(true || false)    // or\n",
    "console.log(!true || false)   // not"
   ]
  },
  {
   "cell_type": "code",
   "execution_count": 10,
   "metadata": {},
   "outputs": [
    {
     "name": "stdout",
     "output_type": "stream",
     "text": [
      "2\n"
     ]
    }
   ],
   "source": [
    "// 삼항 연산자\n",
    "// 조건식이 참이면 콜론 앞의 값 반환, 거짓이면 콜론 뒤의 값 반환\n",
    "\n",
    "const result = true ? 2 : 3\n",
    "console.log(result)"
   ]
  },
  {
   "cell_type": "markdown",
   "metadata": {},
   "source": [
    "## 조건문"
   ]
  },
  {
   "cell_type": "code",
   "execution_count": 1,
   "metadata": {},
   "outputs": [
    {
     "name": "stdout",
     "output_type": "stream",
     "text": [
      "매니저님 환영합니다.\n"
     ]
    }
   ],
   "source": [
    "// if\n",
    "const me = 'rucy'\n",
    "\n",
    "if (me === 'david') {\n",
    "  console.log('관리자님 환영합니다.')\n",
    "} else if (me === 'rucy') {\n",
    "  console.log('매니저님 환영합니다.')\n",
    "} else {\n",
    "  console.log(`${me}님 환영합니다.`)\n",
    "}"
   ]
  },
  {
   "cell_type": "code",
   "execution_count": 3,
   "metadata": {},
   "outputs": [
    {
     "name": "stdout",
     "output_type": "stream",
     "text": [
      "관리자님 환영합니다.\n"
     ]
    }
   ],
   "source": [
    "// switch\n",
    "// break를 넣지 않으면 참인 case 아래 모든 case의 결과가 조건문 부합 여부와 관계 없이 모두 실행된다.\n",
    "const me2 = 'david'\n",
    "\n",
    "switch (me2) {\n",
    "  case 'james': {\n",
    "    console.log('회장님 환영합니다.')\n",
    "    break\n",
    "  }\n",
    "  case 'david': {\n",
    "    console.log('관리자님 환영합니다.')\n",
    "    break\n",
    "  }\n",
    "  default: {\n",
    "    console.log(`${me2}님 환영합니다.`)\n",
    "  }\n",
    "}"
   ]
  },
  {
   "cell_type": "markdown",
   "metadata": {},
   "source": [
    "## 반복문"
   ]
  },
  {
   "cell_type": "code",
   "execution_count": 9,
   "metadata": {},
   "outputs": [
    {
     "name": "stdout",
     "output_type": "stream",
     "text": [
      "0\n",
      "1\n",
      "2\n",
      "3\n",
      "4\n",
      "5\n"
     ]
    },
    {
     "data": {
      "text/plain": [
       "6"
      ]
     },
     "execution_count": 9,
     "metadata": {},
     "output_type": "execute_result"
    }
   ],
   "source": [
    "// while\n",
    "let i = 0\n",
    "\n",
    "while (i < 6) {\n",
    "  console.log(i)\n",
    "  i += 1\n",
    "}"
   ]
  },
  {
   "cell_type": "code",
   "execution_count": 11,
   "metadata": {},
   "outputs": [
    {
     "name": "stdout",
     "output_type": "stream",
     "text": [
      "0\n",
      "1\n",
      "2\n",
      "3\n",
      "4\n",
      "5\n"
     ]
    }
   ],
   "source": [
    "// for\n",
    "\n",
    "let i = 0\n",
    "for (i = 0; i < 6; i++) {\n",
    "  console.log(i)\n",
    "}"
   ]
  },
  {
   "cell_type": "code",
   "execution_count": 14,
   "metadata": {},
   "outputs": [
    {
     "name": "stdout",
     "output_type": "stream",
     "text": [
      "a\n",
      "apple\n",
      "b\n",
      "banana\n"
     ]
    }
   ],
   "source": [
    "// for~in~: 객체의 속성 순회\n",
    "const fruits = {\n",
    "  a: 'apple',\n",
    "  b: 'banana',\n",
    "}\n",
    "\n",
    "for (const f in fruits) {\n",
    "  console.log(f)\n",
    "  console.log(fruits[f])\n",
    "}"
   ]
  },
  {
   "cell_type": "code",
   "execution_count": 16,
   "metadata": {},
   "outputs": [
    {
     "name": "stdout",
     "output_type": "stream",
     "text": [
      "1\n",
      "2\n",
      "3\n",
      "4\n"
     ]
    }
   ],
   "source": [
    "// for~of~: 반복 가능한 객체의 속성 값을 순회\n",
    "const nums = [1,2,3,4]\n",
    "\n",
    "for (let n of nums) {\n",
    "  console.log(n)\n",
    "}"
   ]
  },
  {
   "cell_type": "markdown",
   "metadata": {},
   "source": [
    "## 함수"
   ]
  },
  {
   "cell_type": "code",
   "execution_count": 18,
   "metadata": {},
   "outputs": [
    {
     "name": "stdout",
     "output_type": "stream",
     "text": [
      "9\n"
     ]
    }
   ],
   "source": [
    "// 선언식(declaration): 호이스팅이 발생하므로 사용 지양\n",
    "function add(num1, num2) {\n",
    "  return num1 + num2\n",
    "}\n",
    "\n",
    "console.log(add(2,7))"
   ]
  },
  {
   "cell_type": "code",
   "execution_count": 19,
   "metadata": {},
   "outputs": [
    {
     "name": "stdout",
     "output_type": "stream",
     "text": [
      "9\n"
     ]
    }
   ],
   "source": [
    "// 표현식(expression)\n",
    "// 함수 이름을 명시할 수도 있지만 해당 이름으로 함수 호출은 불가\n",
    "const func = function (num1, num2) {\n",
    "  return num1 + num2\n",
    "}\n",
    "\n",
    "console.log(func(2, 7))"
   ]
  },
  {
   "cell_type": "code",
   "execution_count": 20,
   "metadata": {},
   "outputs": [
    {
     "name": "stdout",
     "output_type": "stream",
     "text": [
      "Hi david\n",
      "Hi Anonymous\n"
     ]
    }
   ],
   "source": [
    "// 기본 인자\n",
    "const greeting = function (name='Anonymous') {\n",
    "  return `Hi ${name}`\n",
    "}\n",
    "\n",
    "console.log(greeting('david'))\n",
    "console.log(greeting())"
   ]
  },
  {
   "cell_type": "code",
   "execution_count": 21,
   "metadata": {},
   "outputs": [
    {
     "name": "stdout",
     "output_type": "stream",
     "text": [
      "[ 1, undefined, undefined ]\n",
      "[ 1, 2, undefined ]\n",
      "[ 1, 2, 3 ]\n"
     ]
    }
   ],
   "source": [
    "// 인자의 개수: 인자 개수 < 매개변수 개수\n",
    "const threeArgs = function (a1, a2, a3) {\n",
    "  return [a1, a2, a3]\n",
    "}\n",
    "\n",
    "console.log(threeArgs(1))\n",
    "console.log(threeArgs(1, 2))\n",
    "console.log(threeArgs(1, 2, 3))"
   ]
  },
  {
   "cell_type": "code",
   "execution_count": 22,
   "metadata": {},
   "outputs": [
    {
     "name": "stdout",
     "output_type": "stream",
     "text": [
      "[ 1, 2, 3 ]\n",
      "[ 1, 2, 3 ]\n"
     ]
    }
   ],
   "source": [
    "// 인자의 개수: 인자 개수 < 매개변수 개수\n",
    "const threeArgs = function (a1, a2, a3) {\n",
    "  return [a1, a2, a3]\n",
    "}\n",
    "\n",
    "console.log(threeArgs(1, 2, 3, 4))\n",
    "console.log(threeArgs(1, 2, 3, 4, 5))"
   ]
  },
  {
   "cell_type": "code",
   "execution_count": 23,
   "metadata": {},
   "outputs": [
    {
     "name": "stdout",
     "output_type": "stream",
     "text": [
      "[ 'lemon', 'apple', 'banana', 'melon' ]\n"
     ]
    }
   ],
   "source": [
    "// spread syntax with arrays\n",
    "let fruits1 = ['apple', 'banana']\n",
    "let fruits2 = ['lemon', ...fruits1, 'melon']\n",
    "console.log(fruits2)"
   ]
  },
  {
   "cell_type": "code",
   "execution_count": 25,
   "metadata": {},
   "outputs": [
    {
     "name": "stdout",
     "output_type": "stream",
     "text": [
      "[ 1, 2, [ 3, 4, 5 ] ]\n"
     ]
    }
   ],
   "source": [
    "// spread syntax with functions: 지정되지 않은 인자를 배열로 받는다.\n",
    "const func2 = function (a1, a2, ...restArgs) {\n",
    "  return [a1, a2, restArgs]\n",
    "}\n",
    "\n",
    "console.log(func2(1, 2, 3, 4, 5))"
   ]
  },
  {
   "cell_type": "code",
   "execution_count": 1,
   "metadata": {},
   "outputs": [
    {
     "name": "stdout",
     "output_type": "stream",
     "text": [
      "hello david\n",
      "hello david\n",
      "hello david\n",
      "hello david\n"
     ]
    }
   ],
   "source": [
    "// arrow function\n",
    "const arrow = function (name) {\n",
    "  return `hello ${name}`\n",
    "}\n",
    "console.log(arrow('david'))\n",
    "\n",
    "// 1. function 키워드 삭제\n",
    "const arrow2 = (name) => { return `hello ${name}` }\n",
    "console.log(arrow2('david'))\n",
    "\n",
    "// 2. 인자가 1개일 경우 소괄호 삭제(단, 명확성과 일관성을 위해 인자 주위에 소괄호를 빼는 것은 지향되지 않음)\n",
    "const arrow3 = name => { return `hello ${name}` }\n",
    "console.log(arrow3('david'))\n",
    "\n",
    "// 3. 함수 body가 return을 포함한 표현식 1개일 경우 return과 중괄호 삭제\n",
    "const arrow4 = name => `hello ${name}`\n",
    "console.log(arrow4('david'))\n",
    "\n",
    "\n",
    "// 유의사항\n",
    "// object return 시 return을 생략하려면 소괄호안에 object를 넣어주어야 한다."
   ]
  },
  {
   "cell_type": "code",
   "execution_count": 2,
   "metadata": {},
   "outputs": [
    {
     "name": "stdout",
     "output_type": "stream",
     "text": [
      "9\n"
     ]
    }
   ],
   "source": [
    "// IIFE(Immediately Invoked Function Expression)\n",
    "// 선언과 동시에 실행되는 함수\n",
    "console.log((function (num) { return num ** 2 })(3))"
   ]
  },
  {
   "cell_type": "markdown",
   "metadata": {},
   "source": [
    "## 배열(array)\n",
    "- key와 속성들을 담고 있는 참조 타입 객체"
   ]
  },
  {
   "cell_type": "code",
   "execution_count": 1,
   "metadata": {},
   "outputs": [
    {
     "name": "stdout",
     "output_type": "stream",
     "text": [
      "[ 5, 4, 3, 2, 1 ]\n"
     ]
    }
   ],
   "source": [
    "// array.revers(): 역순 정렬\n",
    "const nums = [1, 2, 3, 4, 5]\n",
    "nums.reverse()\n",
    "console.log(nums)"
   ]
  },
  {
   "cell_type": "code",
   "execution_count": 1,
   "metadata": {},
   "outputs": [
    {
     "name": "stdout",
     "output_type": "stream",
     "text": [
      "[ 1, 2, 3, 100 ]\n",
      "[ 1, 2, 3 ]\n"
     ]
    }
   ],
   "source": [
    "// array.push(): 맨 뒤에 요소 추가\n",
    "// array.pop(): 맨 뒤 요소 삭제\n",
    "const nums2 = [1, 2, 3]\n",
    "\n",
    "nums2.push(100)\n",
    "console.log(nums2)\n",
    "\n",
    "nums2.pop()\n",
    "console.log(nums2)\n"
   ]
  },
  {
   "cell_type": "code",
   "execution_count": 2,
   "metadata": {},
   "outputs": [
    {
     "name": "stdout",
     "output_type": "stream",
     "text": [
      "true\n",
      "false\n"
     ]
    }
   ],
   "source": [
    "// array.includes(value): 배열에 특정 값이 존재하는지 판별 -> true, false\n",
    "\n",
    "const s = ['a', 'b', 'c']\n",
    "console.log(s.includes('a'))\n",
    "console.log(s.includes('d'))"
   ]
  },
  {
   "cell_type": "code",
   "execution_count": 4,
   "metadata": {},
   "outputs": [
    {
     "name": "stdout",
     "output_type": "stream",
     "text": [
      "1\n",
      "-1\n"
     ]
    }
   ],
   "source": [
    "// array.indexOf(value): 배열에 특정 값이 존재하면 해당 값의 가장 앞선 인덱스 반환. 없을 경우 -1\n",
    "\n",
    "const s = ['a', 'b', 'c']\n",
    "console.log(s.indexOf('b'))\n",
    "console.log(s.indexOf('d'))"
   ]
  },
  {
   "cell_type": "code",
   "execution_count": 7,
   "metadata": {},
   "outputs": [
    {
     "name": "stdout",
     "output_type": "stream",
     "text": [
      "a,b,c\n",
      "a-b-c\n"
     ]
    }
   ],
   "source": [
    "// array.join(): 모든 요소를 연결하여 반환\n",
    "const s = ['a', 'b', 'c']\n",
    "console.log(s.join())     // 구분자 생략 시 ','\n",
    "console.log(s.join('-'))"
   ]
  },
  {
   "cell_type": "code",
   "execution_count": 9,
   "metadata": {},
   "outputs": [
    {
     "name": "stdout",
     "output_type": "stream",
     "text": [
      "apple\n",
      "banana\n",
      "lemon\n"
     ]
    }
   ],
   "source": [
    "// forEach\n",
    "const fruits = ['apple', 'banana', 'lemon']\n",
    "\n",
    "printFunc = function (fruit) {\n",
    "  console.log(fruit)\n",
    "}\n",
    "\n",
    "fruits.forEach(printFunc)"
   ]
  },
  {
   "cell_type": "code",
   "execution_count": 10,
   "metadata": {},
   "outputs": [
    {
     "name": "stdout",
     "output_type": "stream",
     "text": [
      "apple\n",
      "banana\n",
      "lemon\n"
     ]
    }
   ],
   "source": [
    "// forEach2\n",
    "const fruits = ['apple', 'banana', 'lemon']\n",
    "\n",
    "fruits.forEach(function (fruit) {\n",
    "  console.log(fruit)\n",
    "})"
   ]
  },
  {
   "cell_type": "code",
   "execution_count": 11,
   "metadata": {},
   "outputs": [
    {
     "name": "stdout",
     "output_type": "stream",
     "text": [
      "apple\n",
      "banana\n",
      "lemon\n"
     ]
    }
   ],
   "source": [
    "// forEach3: arrow function\n",
    "const fruits = ['apple', 'banana', 'lemon']\n",
    "\n",
    "fruits.forEach((fruit) => console.log(fruit))"
   ]
  },
  {
   "cell_type": "code",
   "execution_count": 1,
   "metadata": {},
   "outputs": [
    {
     "name": "stdout",
     "output_type": "stream",
     "text": [
      "[ 1, 4, 9 ]\n"
     ]
    }
   ],
   "source": [
    "// array.map(): 각 요소에 함수 적용\n",
    "const nums = [1, 2, 3]\n",
    "\n",
    "const squareNums = nums.map(function (n) {\n",
    "  return n ** 2\n",
    "})\n",
    "\n",
    "console.log(squareNums)"
   ]
  },
  {
   "cell_type": "code",
   "execution_count": 2,
   "metadata": {},
   "outputs": [
    {
     "name": "stdout",
     "output_type": "stream",
     "text": [
      "[\n",
      "  { name: 'david', nation: 'korea' },\n",
      "  { name: 'rucy', nation: 'korea' }\n",
      "]\n"
     ]
    }
   ],
   "source": [
    "// array.filter(): 조건에 맞는 요소들 return\n",
    "const people = [\n",
    "  { name: 'david', nation: 'korea'},\n",
    "  { name: 'rucy', nation: 'korea'},\n",
    "  { name: 'judy', nation: 'us'},\n",
    "  { name: 'john', nation: 'uk'},\n",
    "]\n",
    "\n",
    "const nations = people.filter(function (human) {\n",
    "  return human.nation === 'korea'\n",
    "})\n",
    "\n",
    "console.log(nations)"
   ]
  },
  {
   "cell_type": "code",
   "execution_count": 1,
   "metadata": {},
   "outputs": [
    {
     "name": "stdout",
     "output_type": "stream",
     "text": [
      "15\n",
      "115\n"
     ]
    }
   ],
   "source": [
    "// array.reduce(): 누적값 반환\n",
    "const nums = [1, 2, 3, 4, 5]\n",
    "\n",
    "const total = nums.reduce(function (agg, n) {\n",
    "  return agg + n\n",
    "})\n",
    "console.log(total)\n",
    "\n",
    "\n",
    "const total2 = nums.reduce(function (agg, n) {\n",
    "  return agg + n\n",
    "}, 100)   // 100부터 시작\n",
    "console.log(total2)"
   ]
  },
  {
   "cell_type": "code",
   "execution_count": 1,
   "metadata": {},
   "outputs": [
    {
     "name": "stdout",
     "output_type": "stream",
     "text": [
      "{ name: 'david', nation: 'korea' }\n",
      "undefined\n"
     ]
    }
   ],
   "source": [
    "// array.find(): 반환값이 true일 경우 조건을 만족하는 첫 번째 요소 반환\n",
    "const people = [\n",
    "  { name: 'david', nation: 'korea'},\n",
    "  { name: 'rucy', nation: 'korea'},\n",
    "  { name: 'judy', nation: 'us'},\n",
    "  { name: 'john', nation: 'uk'},\n",
    "]\n",
    "\n",
    "const human = people.find(function (h) {\n",
    "  return h.name === 'david'\n",
    "})\n",
    "console.log(human)\n",
    "\n",
    "\n",
    "const human2 = people.find(function (h) {\n",
    "  return h.name === 'amy'\n",
    "})\n",
    "console.log(human2)"
   ]
  },
  {
   "cell_type": "code",
   "execution_count": 1,
   "metadata": {},
   "outputs": [
    {
     "name": "stdout",
     "output_type": "stream",
     "text": [
      "true\n",
      "false\n"
     ]
    }
   ],
   "source": [
    "// array.some(): 요소 중 하나라도 조건에 부합하면 true return\n",
    "\n",
    "const people = [\n",
    "  { name: 'david', nation: 'korea'},\n",
    "  { name: 'rucy', nation: 'korea'},\n",
    "  { name: 'judy', nation: 'us'},\n",
    "  { name: 'john', nation: 'uk'},\n",
    "]\n",
    "\n",
    "const result = people.some((human) => {\n",
    "  return human.nation === 'us'\n",
    "})\n",
    "console.log(result)\n",
    "const result2 = people.some((human) => human.nation === 'fr')\n",
    "console.log(result2)"
   ]
  },
  {
   "cell_type": "code",
   "execution_count": 1,
   "metadata": {},
   "outputs": [
    {
     "name": "stdout",
     "output_type": "stream",
     "text": [
      "false\n",
      "true\n"
     ]
    }
   ],
   "source": [
    "// array.every(): 요소 모두 조건에 부합하면 true return\n",
    "\n",
    "const people = [\n",
    "  { name: 'david', nation: 'korea'},\n",
    "  { name: 'rucy', nation: 'korea'},\n",
    "  { name: 'judy', nation: 'us'},\n",
    "  { name: 'john', nation: 'uk'},\n",
    "]\n",
    "\n",
    "const result = people.every((human) => {\n",
    "  return human.nation === 'korea'\n",
    "})\n",
    "console.log(result)\n",
    "\n",
    "\n",
    "const people2 = [\n",
    "  { name: 'david', nation: 'korea'},\n",
    "  { name: 'rucy', nation: 'korea'},\n",
    "]\n",
    "const result2 = people2.every((human) => human.nation === 'korea')\n",
    "console.log(result2)"
   ]
  },
  {
   "cell_type": "markdown",
   "metadata": {},
   "source": [
    "## JSON <-> 객체"
   ]
  },
  {
   "cell_type": "code",
   "execution_count": 2,
   "metadata": {},
   "outputs": [
    {
     "name": "stdout",
     "output_type": "stream",
     "text": [
      "{\"coffee\":\"americano\",\"iceCream\":\"melona\"}\n",
      "string\n"
     ]
    }
   ],
   "source": [
    "const obj = {\n",
    "  coffee: 'americano',\n",
    "  iceCream: 'melona'\n",
    "}\n",
    "const objToJson = JSON.stringify(obj)\n",
    "\n",
    "console.log(objToJson)\n",
    "console.log(typeof objToJson)"
   ]
  },
  {
   "cell_type": "code",
   "execution_count": 3,
   "metadata": {},
   "outputs": [
    {
     "name": "stdout",
     "output_type": "stream",
     "text": [
      "{ coffee: 'americano', iceCream: 'melona' }\n",
      "object\n"
     ]
    }
   ],
   "source": [
    "const jsonToObj = JSON.parse(objToJson)\n",
    "\n",
    "console.log(jsonToObj)\n",
    "console.log(typeof jsonToObj)"
   ]
  }
 ],
 "metadata": {
  "kernelspec": {
   "display_name": "JavaScript (Node.js)",
   "language": "javascript",
   "name": "javascript"
  },
  "language_info": {
   "file_extension": ".js",
   "mimetype": "application/javascript",
   "name": "javascript",
   "version": "16.18.0"
  },
  "orig_nbformat": 4
 },
 "nbformat": 4,
 "nbformat_minor": 2
}

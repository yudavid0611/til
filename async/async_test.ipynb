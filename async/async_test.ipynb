{
 "cells": [
  {
   "cell_type": "markdown",
   "metadata": {},
   "source": [
    "# Async Test(비동기 처리 Test)"
   ]
  },
  {
   "cell_type": "code",
   "execution_count": 1,
   "metadata": {},
   "outputs": [],
   "source": [
    "import time\n",
    "import asyncio"
   ]
  },
  {
   "cell_type": "markdown",
   "metadata": {},
   "source": [
    "## Test1. 비동기 함수와 동기 함수를 실행 시킴"
   ]
  },
  {
   "cell_type": "code",
   "execution_count": 23,
   "metadata": {},
   "outputs": [
    {
     "name": "stdout",
     "output_type": "stream",
     "text": [
      "CPU 연산을 수행합니다.\n",
      "비동기 수행되는 DB 작업입니다. (2초 소요)\n",
      "걸린 시간: 2.020327091217041\n"
     ]
    }
   ],
   "source": [
    "# 비동기 함수\n",
    "async def db_task():\n",
    "    print(f'비동기 수행되는 DB 작업입니다. (2초 소요)')\n",
    "    for _ in range(2):\n",
    "        await asyncio.sleep(1)\n",
    "\n",
    "\n",
    "# 동기 함수\n",
    "def cpu_task():\n",
    "    print(f'CPU 연산을 수행합니다.')\n",
    "\n",
    "\n",
    "async def main():\n",
    "    start = time.time()\n",
    "    task1 = asyncio.create_task(db_task())\n",
    "    \n",
    "    cpu_task()\n",
    "    await task1\n",
    "    \n",
    "    end = time.time()\n",
    "    print(f'걸린 시간: {end - start}')\n",
    "\n",
    "\n",
    "task = asyncio.create_task(main())\n",
    "await task\n"
   ]
  },
  {
   "cell_type": "markdown",
   "metadata": {},
   "source": [
    "## Test2. 비동기 함수 2개를 실행 시킴"
   ]
  },
  {
   "cell_type": "code",
   "execution_count": 25,
   "metadata": {},
   "outputs": [
    {
     "name": "stdout",
     "output_type": "stream",
     "text": [
      "비동기 수행되는 DB 작업입니다. (2초 소요)\n",
      "비동기 수행되는 파일시스템 작업입니다. (1초 소요)\n",
      "걸린 시간: 2.0056004524230957\n"
     ]
    }
   ],
   "source": [
    "# 비동기 함수\n",
    "async def db_task():\n",
    "    print(f'비동기 수행되는 DB 작업입니다. (2초 소요)')\n",
    "    for _ in range(2):\n",
    "        await asyncio.sleep(1)\n",
    "\n",
    "\n",
    "# 비동기 함수\n",
    "async def file_task():\n",
    "    print(f'비동기 수행되는 파일시스템 작업입니다. (1초 소요)')\n",
    "    await asyncio.sleep(1)\n",
    "\n",
    "\n",
    "async def main():\n",
    "    start = time.time()\n",
    "    task1 = asyncio.create_task(db_task())\n",
    "    task2 = asyncio.create_task(file_task())\n",
    "    \n",
    "    await task1\n",
    "    await task2\n",
    "    \n",
    "    end = time.time()\n",
    "    print(f'걸린 시간: {end - start}')\n",
    "\n",
    "\n",
    "task = asyncio.create_task(main())\n",
    "await task"
   ]
  },
  {
   "cell_type": "markdown",
   "metadata": {},
   "source": [
    "## Test3. 비동기 함수 2개와 동기 함수를 실행 시킴"
   ]
  },
  {
   "cell_type": "code",
   "execution_count": 26,
   "metadata": {},
   "outputs": [
    {
     "name": "stdout",
     "output_type": "stream",
     "text": [
      "비동기 수행되는 DB 작업입니다. (2초 소요)\n",
      "비동기 수행되는 파일시스템 작업입니다. (1초 소요)\n",
      "CPU 연산을 수행합니다.\n",
      "걸린 시간: 2.002685546875\n"
     ]
    }
   ],
   "source": [
    "# 비동기 함수\n",
    "async def db_task():\n",
    "    print(f'비동기 수행되는 DB 작업입니다. (2초 소요)')\n",
    "    for _ in range(2):\n",
    "        await asyncio.sleep(1)\n",
    "\n",
    "\n",
    "# 비동기 함수\n",
    "async def file_task():\n",
    "    print(f'비동기 수행되는 파일시스템 작업입니다. (1초 소요)')\n",
    "    await asyncio.sleep(1)\n",
    "\n",
    "\n",
    "# 동기 함수\n",
    "def cpu_task():\n",
    "    print(f'CPU 연산을 수행합니다.')\n",
    "\n",
    "\n",
    "async def main():\n",
    "    start = time.time()\n",
    "    task1 = asyncio.create_task(db_task())\n",
    "    task2 = asyncio.create_task(file_task())\n",
    "    \n",
    "    await task1\n",
    "    await task2\n",
    "    cpu_task()\n",
    "    \n",
    "    end = time.time()\n",
    "    print(f'걸린 시간: {end - start}')\n",
    "\n",
    "\n",
    "task = asyncio.create_task(main())\n",
    "await task"
   ]
  },
  {
   "cell_type": "markdown",
   "metadata": {},
   "source": [
    "## Test4. CPU 작업을 비동기 함수에서 실행"
   ]
  },
  {
   "cell_type": "markdown",
   "metadata": {},
   "source": [
    "먼저, 동기 함수로 실행했을 떄 시간을 확인해본다."
   ]
  },
  {
   "cell_type": "code",
   "execution_count": 37,
   "metadata": {},
   "outputs": [
    {
     "name": "stdout",
     "output_type": "stream",
     "text": [
      "CPU 연산을 수행합니다.\n",
      "CPU 연산을 수행합니다.\n",
      "걸린 시간: 1.756350040435791\n"
     ]
    }
   ],
   "source": [
    "# 동기 함수\n",
    "def cpu_task():\n",
    "    print(f'CPU 연산을 수행합니다.')\n",
    "    for _ in range(50000000):\n",
    "        a = 10 + 10\n",
    "\n",
    "\n",
    "async def main():\n",
    "    start = time.time()\n",
    "\n",
    "    cpu_task()\n",
    "    cpu_task()\n",
    "    \n",
    "    end = time.time()\n",
    "    print(f'걸린 시간: {end - start}')\n",
    "\n",
    "\n",
    "task = asyncio.create_task(main())\n",
    "await task"
   ]
  },
  {
   "cell_type": "markdown",
   "metadata": {},
   "source": [
    "비동기 함수 내에서 작업을 수행해본다."
   ]
  },
  {
   "cell_type": "code",
   "execution_count": 38,
   "metadata": {},
   "outputs": [
    {
     "name": "stdout",
     "output_type": "stream",
     "text": [
      "CPU 연산을 수행합니다.\n",
      "CPU 연산을 수행합니다.\n",
      "걸린 시간: 1.8155670166015625\n"
     ]
    }
   ],
   "source": [
    "# 동기 함수\n",
    "async def cpu_task():\n",
    "    print(f'CPU 연산을 수행합니다.')\n",
    "    for _ in range(50000000):\n",
    "        a = 10 + 10\n",
    "\n",
    "\n",
    "async def main():\n",
    "    start = time.time()\n",
    "    task1 = asyncio.create_task(cpu_task())\n",
    "    task2 = asyncio.create_task(cpu_task())\n",
    "    \n",
    "    await task1\n",
    "    await task2\n",
    "    \n",
    "    end = time.time()\n",
    "    print(f'걸린 시간: {end - start}')\n",
    "\n",
    "\n",
    "task = asyncio.create_task(main())\n",
    "await task"
   ]
  },
  {
   "cell_type": "markdown",
   "metadata": {},
   "source": [
    "**비동기가 아닌 동기로 처리되었다.**\n",
    "이유는 다음과 같다.\n",
    "- 비동기 처리는 각 작업이 다른 자원을 사용할 때 발생한다. 예를 들어 CPU 작업 외에 네트워크 요청, 파일 시스템, DB 조회 등이 발생하여 서로 다른 자원을 사용할 때 비동기 처리가 가능하다.\n",
    "- 따라서 코루틴(async 함수)이라도 CPU 자원을 사용하는 작업일 경우 동기로 처리된다. \n",
    "- CPU 작업을 비동기로 처리하는 것은 사실상 멀티스레딩이나 멀티프로세싱과 같은 병렬 처리 방식과 유사하다.\n",
    "- 참고: https://lucky516.tistory.com/207"
   ]
  }
 ],
 "metadata": {
  "kernelspec": {
   "display_name": "venv",
   "language": "python",
   "name": "python3"
  },
  "language_info": {
   "codemirror_mode": {
    "name": "ipython",
    "version": 3
   },
   "file_extension": ".py",
   "mimetype": "text/x-python",
   "name": "python",
   "nbconvert_exporter": "python",
   "pygments_lexer": "ipython3",
   "version": "3.9.13"
  }
 },
 "nbformat": 4,
 "nbformat_minor": 2
}

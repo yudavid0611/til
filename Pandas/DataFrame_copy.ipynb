{
 "cells": [
  {
   "cell_type": "markdown",
   "metadata": {},
   "source": [
    "# Pandas DataFrame Copy"
   ]
  },
  {
   "cell_type": "markdown",
   "metadata": {},
   "source": [
    "## 설명\n",
    "- 데이터프레임 또한 얕은복사, 깊은복사 개념이 적용된다.\n",
    "- 따라서 원본은 두고 구조와 값이 동일한 데이터프레임을 복제하고 싶을 경우 DataFrame의 copy() 메서드를 사용한다."
   ]
  },
  {
   "cell_type": "code",
   "execution_count": 4,
   "metadata": {},
   "outputs": [
    {
     "name": "stdout",
     "output_type": "stream",
     "text": [
      "   c1  c2  c3\n",
      "0  10   2   3\n",
      "1   3   4   5\n",
      "   c1  c2  c3\n",
      "0  10   2   3\n",
      "1   3   4   5\n"
     ]
    }
   ],
   "source": [
    "# 얕은 복사\n",
    "\n",
    "import pandas as pd\n",
    "\n",
    "a = pd.DataFrame(\n",
    "    columns=['c1', 'c2', 'c3'],\n",
    "    data=[[1,2,3], [3,4, 5]]\n",
    ")\n",
    "\n",
    "b = a\n",
    "b.c1[0] = 10\n",
    "print(b)\n",
    "print(a)"
   ]
  },
  {
   "cell_type": "code",
   "execution_count": 5,
   "metadata": {},
   "outputs": [
    {
     "name": "stdout",
     "output_type": "stream",
     "text": [
      "   c1  c2  c3\n",
      "0  10   2   3\n",
      "1   3   4   5\n",
      "   c1  c2  c3\n",
      "0   1   2   3\n",
      "1   3   4   5\n"
     ]
    }
   ],
   "source": [
    "# 깊은 복사\n",
    "\n",
    "import pandas as pd\n",
    "\n",
    "a = pd.DataFrame(\n",
    "    columns=['c1', 'c2', 'c3'],\n",
    "    data=[[1,2,3], [3,4, 5]]\n",
    ")\n",
    "\n",
    "b = a.copy()\n",
    "b.c1[0] = 10\n",
    "print(b)\n",
    "print(a)"
   ]
  }
 ],
 "metadata": {
  "kernelspec": {
   "display_name": "Python 3.9.13 64-bit",
   "language": "python",
   "name": "python3"
  },
  "language_info": {
   "codemirror_mode": {
    "name": "ipython",
    "version": 3
   },
   "file_extension": ".py",
   "mimetype": "text/x-python",
   "name": "python",
   "nbconvert_exporter": "python",
   "pygments_lexer": "ipython3",
   "version": "3.9.13"
  },
  "orig_nbformat": 4,
  "vscode": {
   "interpreter": {
    "hash": "3d3579b64ed644892bc49d0da2d1890659408e00eebf25200bc250e1696a02dd"
   }
  }
 },
 "nbformat": 4,
 "nbformat_minor": 2
}
